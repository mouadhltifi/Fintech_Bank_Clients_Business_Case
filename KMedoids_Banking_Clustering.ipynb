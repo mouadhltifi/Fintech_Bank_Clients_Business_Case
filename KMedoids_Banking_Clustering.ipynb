{
 "cells": [
  {
   "cell_type": "markdown",
   "id": "08b45387",
   "metadata": {},
   "source": [
    "# **Banking Client Segmentation using K-Medoids**\n",
    "\n",
    "This notebook implements a **complete clustering pipeline** for **banking clients segmentation** using the **K-Medoids algorithm**.\n",
    "\n",
    "## **Pipeline Overview:**\n",
    "1. **Load & Preprocess Data** (Handling categorical & numerical features)\n",
    "2. **Compute Gower Distance** (for mixed data types)\n",
    "3. **Apply K-Medoids Clustering**\n",
    "4. **Evaluate Clustering Performance**\n",
    "5. **Visualize Results using t-SNE**\n",
    "6. **Interpret the Clusters** (Understanding the characteristics of each group)\n"
   ]
  },
  {
   "cell_type": "code",
   "execution_count": 19,
   "id": "854dc918",
   "metadata": {},
   "outputs": [
    {
     "data": {
      "text/html": [
       "<div>\n",
       "<style scoped>\n",
       "    .dataframe tbody tr th:only-of-type {\n",
       "        vertical-align: middle;\n",
       "    }\n",
       "\n",
       "    .dataframe tbody tr th {\n",
       "        vertical-align: top;\n",
       "    }\n",
       "\n",
       "    .dataframe thead th {\n",
       "        text-align: right;\n",
       "    }\n",
       "</style>\n",
       "<table border=\"1\" class=\"dataframe\">\n",
       "  <thead>\n",
       "    <tr style=\"text-align: right;\">\n",
       "      <th></th>\n",
       "      <th>Age</th>\n",
       "      <th>Gender</th>\n",
       "      <th>Job</th>\n",
       "      <th>Area</th>\n",
       "      <th>CitySize</th>\n",
       "      <th>FamilySize</th>\n",
       "      <th>Income</th>\n",
       "      <th>Wealth</th>\n",
       "      <th>Debt</th>\n",
       "      <th>FinEdu</th>\n",
       "      <th>ESG</th>\n",
       "      <th>Digital</th>\n",
       "      <th>BankFriend</th>\n",
       "      <th>LifeStyle</th>\n",
       "      <th>Luxury</th>\n",
       "      <th>Saving</th>\n",
       "      <th>Investments</th>\n",
       "    </tr>\n",
       "  </thead>\n",
       "  <tbody>\n",
       "    <tr>\n",
       "      <th>0</th>\n",
       "      <td>24</td>\n",
       "      <td>1</td>\n",
       "      <td>1</td>\n",
       "      <td>2</td>\n",
       "      <td>2</td>\n",
       "      <td>4</td>\n",
       "      <td>0.668046</td>\n",
       "      <td>0.702786</td>\n",
       "      <td>0.262070</td>\n",
       "      <td>0.741853</td>\n",
       "      <td>0.483684</td>\n",
       "      <td>0.698625</td>\n",
       "      <td>0.618259</td>\n",
       "      <td>0.607877</td>\n",
       "      <td>0.897369</td>\n",
       "      <td>0.283222</td>\n",
       "      <td>1</td>\n",
       "    </tr>\n",
       "    <tr>\n",
       "      <th>1</th>\n",
       "      <td>47</td>\n",
       "      <td>1</td>\n",
       "      <td>2</td>\n",
       "      <td>2</td>\n",
       "      <td>3</td>\n",
       "      <td>1</td>\n",
       "      <td>0.858453</td>\n",
       "      <td>0.915043</td>\n",
       "      <td>0.730430</td>\n",
       "      <td>0.859423</td>\n",
       "      <td>0.537167</td>\n",
       "      <td>0.959025</td>\n",
       "      <td>0.785936</td>\n",
       "      <td>0.862271</td>\n",
       "      <td>0.913729</td>\n",
       "      <td>0.821590</td>\n",
       "      <td>3</td>\n",
       "    </tr>\n",
       "    <tr>\n",
       "      <th>2</th>\n",
       "      <td>38</td>\n",
       "      <td>0</td>\n",
       "      <td>2</td>\n",
       "      <td>1</td>\n",
       "      <td>2</td>\n",
       "      <td>2</td>\n",
       "      <td>0.926818</td>\n",
       "      <td>0.898316</td>\n",
       "      <td>0.441272</td>\n",
       "      <td>0.485953</td>\n",
       "      <td>0.649434</td>\n",
       "      <td>0.750265</td>\n",
       "      <td>0.699725</td>\n",
       "      <td>0.755404</td>\n",
       "      <td>0.765199</td>\n",
       "      <td>0.503790</td>\n",
       "      <td>3</td>\n",
       "    </tr>\n",
       "    <tr>\n",
       "      <th>3</th>\n",
       "      <td>67</td>\n",
       "      <td>0</td>\n",
       "      <td>2</td>\n",
       "      <td>1</td>\n",
       "      <td>2</td>\n",
       "      <td>3</td>\n",
       "      <td>0.538797</td>\n",
       "      <td>0.423180</td>\n",
       "      <td>0.600401</td>\n",
       "      <td>0.493144</td>\n",
       "      <td>0.533829</td>\n",
       "      <td>0.590165</td>\n",
       "      <td>0.675353</td>\n",
       "      <td>0.334432</td>\n",
       "      <td>0.517209</td>\n",
       "      <td>0.691240</td>\n",
       "      <td>2</td>\n",
       "    </tr>\n",
       "    <tr>\n",
       "      <th>4</th>\n",
       "      <td>33</td>\n",
       "      <td>0</td>\n",
       "      <td>2</td>\n",
       "      <td>1</td>\n",
       "      <td>3</td>\n",
       "      <td>1</td>\n",
       "      <td>0.806659</td>\n",
       "      <td>0.731404</td>\n",
       "      <td>0.831449</td>\n",
       "      <td>0.856286</td>\n",
       "      <td>0.784940</td>\n",
       "      <td>0.710026</td>\n",
       "      <td>0.758793</td>\n",
       "      <td>0.908878</td>\n",
       "      <td>0.611610</td>\n",
       "      <td>0.615916</td>\n",
       "      <td>2</td>\n",
       "    </tr>\n",
       "  </tbody>\n",
       "</table>\n",
       "</div>"
      ],
      "text/plain": [
       "   Age  Gender  Job  Area  CitySize  FamilySize    Income    Wealth      Debt  \\\n",
       "0   24       1    1     2         2           4  0.668046  0.702786  0.262070   \n",
       "1   47       1    2     2         3           1  0.858453  0.915043  0.730430   \n",
       "2   38       0    2     1         2           2  0.926818  0.898316  0.441272   \n",
       "3   67       0    2     1         2           3  0.538797  0.423180  0.600401   \n",
       "4   33       0    2     1         3           1  0.806659  0.731404  0.831449   \n",
       "\n",
       "     FinEdu       ESG   Digital  BankFriend  LifeStyle    Luxury    Saving  \\\n",
       "0  0.741853  0.483684  0.698625    0.618259   0.607877  0.897369  0.283222   \n",
       "1  0.859423  0.537167  0.959025    0.785936   0.862271  0.913729  0.821590   \n",
       "2  0.485953  0.649434  0.750265    0.699725   0.755404  0.765199  0.503790   \n",
       "3  0.493144  0.533829  0.590165    0.675353   0.334432  0.517209  0.691240   \n",
       "4  0.856286  0.784940  0.710026    0.758793   0.908878  0.611610  0.615916   \n",
       "\n",
       "   Investments  \n",
       "0            1  \n",
       "1            3  \n",
       "2            3  \n",
       "3            2  \n",
       "4            2  "
      ]
     },
     "execution_count": 19,
     "metadata": {},
     "output_type": "execute_result"
    }
   ],
   "source": [
    "import pandas as pd\n",
    "import numpy as np\n",
    "\n",
    "# Load dataset (Update path if necessary)\n",
    "path = '/Users/mouadh/Fintech_Projects/Business_Case_1/Dataset1_BankClients.xlsx'\n",
    "data = pd.read_excel(path)\n",
    "\n",
    "# Drop ID column if present\n",
    "if 'ID' in data.columns:\n",
    "    data = data.drop(columns=['ID'])\n",
    "\n",
    "# Display first 5 rows\n",
    "data.head()\n"
   ]
  },
  {
   "cell_type": "code",
   "execution_count": 20,
   "id": "56bc2d55",
   "metadata": {},
   "outputs": [
    {
     "name": "stdout",
     "output_type": "stream",
     "text": [
      "Processed Data Shape: (5000, 28)\n",
      "\n",
      "First 5 rows of processed data:\n",
      "        Age  FamilySize    Income    Wealth      Debt    FinEdu       ESG  \\\n",
      "0  0.065789         0.6  0.679599  0.705895  0.268264  0.770735  0.465122   \n",
      "1  0.368421         0.0  0.873299  0.919090  0.747693  0.892883  0.521675   \n",
      "2  0.250000         0.2  0.942846  0.902289  0.451701  0.504873  0.640388   \n",
      "3  0.631579         0.4  0.548115  0.425051  0.614591  0.512343  0.518146   \n",
      "4  0.184211         0.0  0.820609  0.734639  0.851100  0.889625  0.783674   \n",
      "\n",
      "    Digital  BankFriend  LifeStyle  ...  Job_5  Area_1  Area_2  Area_3  \\\n",
      "0  0.718914    0.581720   0.612604  ...    0.0     0.0     1.0     0.0   \n",
      "1  0.986877    0.778748   0.868977  ...    0.0     0.0     1.0     0.0   \n",
      "2  0.772055    0.677446   0.761279  ...    0.0     1.0     0.0     0.0   \n",
      "3  0.607305    0.648808   0.337033  ...    0.0     1.0     0.0     0.0   \n",
      "4  0.730646    0.746853   0.915946  ...    0.0     1.0     0.0     0.0   \n",
      "\n",
      "   CitySize_1  CitySize_2  CitySize_3  Investments_1  Investments_2  \\\n",
      "0         0.0         1.0         0.0            1.0            0.0   \n",
      "1         0.0         0.0         1.0            0.0            0.0   \n",
      "2         0.0         1.0         0.0            0.0            0.0   \n",
      "3         0.0         1.0         0.0            0.0            1.0   \n",
      "4         0.0         0.0         1.0            0.0            1.0   \n",
      "\n",
      "   Investments_3  \n",
      "0            0.0  \n",
      "1            1.0  \n",
      "2            1.0  \n",
      "3            0.0  \n",
      "4            0.0  \n",
      "\n",
      "[5 rows x 28 columns]\n"
     ]
    }
   ],
   "source": [
    "from sklearn.preprocessing import MinMaxScaler, OneHotEncoder\n",
    "import pandas as pd\n",
    "import numpy as np\n",
    "\n",
    "# Define categorical columns\n",
    "categorical_columns = ['Gender', 'Job', 'Area', 'CitySize', 'Investments']\n",
    "\n",
    "# Separate numerical & categorical features\n",
    "numerical_features = data.drop(columns=categorical_columns)\n",
    "categorical_features = data[categorical_columns]\n",
    "\n",
    "# Scale numerical features\n",
    "scaler = MinMaxScaler()\n",
    "X_num_scaled = scaler.fit_transform(numerical_features)\n",
    "\n",
    "# One-hot encode categorical features\n",
    "encoder = OneHotEncoder(sparse_output=False, handle_unknown='ignore')\n",
    "X_cat_encoded = encoder.fit_transform(categorical_features)\n",
    "\n",
    "# Get feature names from OneHotEncoder\n",
    "encoded_feature_names = encoder.get_feature_names_out(categorical_columns)\n",
    "\n",
    "# Concatenate processed features\n",
    "X_preprocessed = np.concatenate((X_num_scaled, X_cat_encoded), axis=1)\n",
    "\n",
    "# Convert to DataFrame for readability\n",
    "all_feature_names = numerical_features.columns.tolist() + encoded_feature_names.tolist()\n",
    "X_df = pd.DataFrame(X_preprocessed, columns=all_feature_names)\n",
    "\n",
    "# Display first 5 rows\n",
    "print(f'Processed Data Shape: {X_preprocessed.shape}')\n",
    "print(\"\\nFirst 5 rows of processed data:\")\n",
    "print(X_df.head())"
   ]
  },
  {
   "cell_type": "code",
   "execution_count": 21,
   "id": "056c8a1f",
   "metadata": {},
   "outputs": [
    {
     "data": {
      "text/plain": [
       "array([[0.        , 0.3308228 , 0.3688255 , 0.3962298 , 0.46500587],\n",
       "       [0.3308228 , 0.        , 0.28962833, 0.4133628 , 0.27291024],\n",
       "       [0.3688255 , 0.28962833, 0.        , 0.17167616, 0.21496232],\n",
       "       [0.3962298 , 0.4133628 , 0.17167616, 0.        , 0.18863821],\n",
       "       [0.46500587, 0.27291024, 0.21496232, 0.18863821, 0.        ]],\n",
       "      dtype=float32)"
      ]
     },
     "execution_count": 21,
     "metadata": {},
     "output_type": "execute_result"
    }
   ],
   "source": [
    "import gower\n",
    "\n",
    "# Compute Gower Distance Matrix\n",
    "gower_distances = gower.gower_matrix(X_preprocessed)\n",
    "\n",
    "# Display first 5 rows\n",
    "gower_distances[:5, :5]\n"
   ]
  },
  {
   "cell_type": "code",
   "execution_count": 22,
   "id": "1921b61c",
   "metadata": {},
   "outputs": [
    {
     "name": "stdout",
     "output_type": "stream",
     "text": [
      "Clustering with k=3...\n",
      "Clustering with k=4...\n",
      "Clustering with k=5...\n",
      "Clustering with k=6...\n",
      "Clustering with k=7...\n",
      "Clustering with k=8...\n",
      "Clustering with k=9...\n",
      "Clustering with k=10...\n",
      "✅ Clustering Completed\n"
     ]
    }
   ],
   "source": [
    "from sklearn_extra.cluster import KMedoids\n",
    "\n",
    "# Define number of clusters\n",
    "k_values = [3, 4, 5, 6, 7, 8, 9, 10]\n",
    "\n",
    "# Store clustering results\n",
    "cluster_results = {}\n",
    "\n",
    "for k in k_values:\n",
    "    print(f'Clustering with k={k}...')\n",
    "    \n",
    "    # Run K-Medoids\n",
    "    kmedoids = KMedoids(n_clusters=k, metric='precomputed', random_state=42, init='k-medoids++', max_iter=300)\n",
    "    labels = kmedoids.fit_predict(gower_distances)\n",
    "    \n",
    "    # Store results\n",
    "    cluster_results[k] = labels\n",
    "\n",
    "print(\"✅ Clustering Completed\")\n"
   ]
  },
  {
   "cell_type": "code",
   "execution_count": 23,
   "id": "c538a3b7",
   "metadata": {},
   "outputs": [
    {
     "data": {
      "image/png": "[encoded data removed]",
      "text/plain": [
       "<Figure size 1500x500 with 3 Axes>"
      ]
     },
     "metadata": {},
     "output_type": "display_data"
    },
    {
     "name": "stdout",
     "output_type": "stream",
     "text": [
      "✅ Optimal k (CH): 3\n",
      "✅ Optimal k (DB): 7\n",
      "✅ Optimal k (Silhouette): 6\n"
     ]
    }
   ],
   "source": [
    "import matplotlib.pyplot as plt\n",
    "from sklearn.metrics import calinski_harabasz_score, davies_bouldin_score, silhouette_score\n",
    "\n",
    "# Evaluate clustering\n",
    "def evaluate_clustering(X, cluster_results, gower_distances=None):\n",
    "    if not cluster_results:\n",
    "        print(\"⚠️ No clustering results provided. Exiting evaluation.\")\n",
    "        return None, None, None\n",
    "\n",
    "    k_values = list(cluster_results.keys())\n",
    "\n",
    "    ch_scores, db_scores, sil_scores = [], [], []\n",
    "\n",
    "    for k in k_values:\n",
    "        labels = cluster_results[k]\n",
    "\n",
    "        try:\n",
    "            ch_scores.append(calinski_harabasz_score(X, labels))\n",
    "            db_scores.append(davies_bouldin_score(X, labels))\n",
    "            sil_scores.append(silhouette_score(gower_distances, labels, metric='precomputed'))\n",
    "        except ValueError as e:\n",
    "            print(f\"⚠️ Skipping k={k} due to an error: {e}\")\n",
    "            ch_scores.append(np.nan)\n",
    "            db_scores.append(np.nan)\n",
    "            sil_scores.append(np.nan)\n",
    "\n",
    "    # Plot metrics\n",
    "    fig, (ax1, ax2, ax3) = plt.subplots(1, 3, figsize=(15, 5))\n",
    "\n",
    "    ax1.plot(k_values, ch_scores, 'bo-')\n",
    "    ax1.set_title('Calinski-Harabasz Score')\n",
    "    ax1.set_xlabel('Number of Clusters')\n",
    "\n",
    "    ax2.plot(k_values, db_scores, 'ro-')\n",
    "    ax2.set_title('Davies-Bouldin Score')\n",
    "    ax2.set_xlabel('Number of Clusters')\n",
    "\n",
    "    ax3.plot(k_values, sil_scores, 'go-')\n",
    "    ax3.set_title('Silhouette Score')\n",
    "    ax3.set_xlabel('Number of Clusters')\n",
    "\n",
    "    plt.tight_layout()\n",
    "    plt.show()\n",
    "\n",
    "    print(f\"✅ Optimal k (CH): {k_values[np.argmax(ch_scores)]}\")\n",
    "    print(f\"✅ Optimal k (DB): {k_values[np.argmin(db_scores)]}\")\n",
    "    print(f\"✅ Optimal k (Silhouette): {k_values[np.argmax(sil_scores)]}\")\n",
    "\n",
    "    return ch_scores, db_scores, sil_scores\n",
    "\n",
    "# Evaluate clustering\n",
    "ch_scores, db_scores, sil_scores = evaluate_clustering(X_preprocessed, cluster_results, gower_distances)\n"
   ]
  },
  {
   "cell_type": "code",
   "execution_count": null,
   "id": "eae30107",
   "metadata": {},
   "outputs": [
    {
     "data": {
      "application/vnd.plotly.v1+json": {
       "config": {
        "plotlyServerURL": "https://plot.ly"
       },
       "data": [
        {
         "hovertemplate": "color=0<br>x=%{x}<br>y=%{y}<br>z=%{z}<extra></extra>",
         "legendgroup": "0",
         "marker": {
          "color": "#636efa",
          "opacity": 0.8,
          "symbol": "circle"
         },
         "mode": "markers",
         "name": "0",
         "scene": "scene",
         "showlegend": true,
         "type": "scatter3d",
         "x": {
          "bdata": "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",
          "dtype": "f4"
         },
         "y": {
          "bdata": "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",
          "dtype": "f4"
         },
         "z": {
          "bdata": "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",
          "dtype": "f4"
         }
        },
        {
         "hovertemplate": "color=6<br>x=%{x}<br>y=%{y}<br>z=%{z}<extra></extra>",
         "legendgroup": "6",
         "marker": {
          "color": "#EF553B",
          "opacity": 0.8,
          "symbol": "circle"
         },
         "mode": "markers",
         "name": "6",
         "scene": "scene",
         "showlegend": true,
         "type": "scatter3d",
         "x": {
          "bdata": "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",
          "dtype": "f4"
         },
         "y": {
          "bdata": "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",
          "dtype": "f4"
         },
         "z": {
          "bdata": "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",
          "dtype": "f4"
         }
        },
        {
         "hovertemplate": "color=3<br>x=%{x}<br>y=%{y}<br>z=%{z}<extra></extra>",
         "legendgroup": "3",
         "marker": {
          "color": "#00cc96",
          "opacity": 0.8,
          "symbol": "circle"
         },
         "mode": "markers",
         "name": "3",
         "scene": "scene",
         "showlegend": true,
         "type": "scatter3d",
         "x": {
          "bdata": "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",
          "dtype": "f4"
         },
         "y": {
          "bdata": "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",
          "dtype": "f4"
         },
         "z": {
          "bdata": "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",
          "dtype": "f4"
         }
        },
        {
         "hovertemplate": "color=5<br>x=%{x}<br>y=%{y}<br>z=%{z}<extra></extra>",
         "legendgroup": "5",
         "marker": {
          "color": "#ab63fa",
          "opacity": 0.8,
          "symbol": "circle"
         },
         "mode": "markers",
         "name": "5",
         "scene": "scene",
         "showlegend": true,
         "type": "scatter3d",
         "x": {
          "bdata": "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",
          "dtype": "f4"
         },
         "y": {
          "bdata": "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",
          "dtype": "f4"
         },
         "z": {
          "bdata": "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",
          "dtype": "f4"
         }
        },
        {
         "hovertemplate": "color=4<br>x=%{x}<br>y=%{y}<br>z=%{z}<extra></extra>",
         "legendgroup": "4",
         "marker": {
          "color": "#FFA15A",
          "opacity": 0.8,
          "symbol": "circle"
         },
         "mode": "markers",
         "name": "4",
         "scene": "scene",
         "showlegend": true,
         "type": "scatter3d",
         "x": {
          "bdata": "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",
          "dtype": "f4"
         },
         "y": {
          "bdata": "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",
          "dtype": "f4"
         },
         "z": {
          "bdata": "4lOBvyTljz5PRp6/nCAFwQ1joECgG5G9qifXwPdtj8Ao31u7a5jvvhGAKr56HdnAupz8wCDSXEBXy4hBeSk6vC+KRsCFQTZBMWe1v/R3YkAosFBBpS6WQADTscAc65TAzkyLQWto0sCr/5XAVHiJv9W/AcGwq9bAsfqbv7qhmL/YB6m+MOEQwYbHAMGPxbfAMS6jwIPgi0BtWp2/LLEYv+EVusBa9oc+4/cOQZeAJ0HYn/LA6vQ+wLaYH75+JhtAcqWLPzUoZ0CMy2ZAIOXLvjDrWMBtmbbAx36ZwOzWikAm9MS+iNoIPzjDPcAZrRu+gGkhwS65iMBYg+jAAT88QKPkMMF/dak//HOVQVZJGkDABJO/662Ov1xwuj84bXhB4Fp3wAhNx79sERrBuCyBwBfcF0B5snNABdOJQRAiAcFJIT/AyP6DwJVSHD+UoQDBMOmVwD+H5b93SINBFKwwwKcJ0b83Z/a+sVG+v0PbQMBZ8dzAeR+YQCumVMA2rndAtK6+wG0TNkD0aBNAN0GOQQ3wWkDtNeW/w26YQBJN3sDybIHAwfiYv/Y5lr9P1I5AF8yawIDKzr3LYNM9xzJRQci42b+Ey62/NW4ovz8uiL7DY8E/pRxlQCtnqcBBSpY+S4IIvhwW5D/O9jpAv2RcQJJDr7947sHAS5+HQN8hR79Ox4M++7oKQDhbEUAaZwfBpxobQEDg+L+jVRC/+ByBvwWHrj53K4lBWIW1wGBRjb5auNS/0GZaQD5Yjj9uFybAkNBAvhUvMkGXKT3AipxNPxtHsMCiTItAMBKIQJTmG0DFTI9AGnPEv/c2YUBDnwtAixfKwP71Vr6UhE9AfYb6P/tWcEDQ17g+J+Acv2NMjMC5Gry+bi0YwV65Gr1R0jxAg+xhQESC4sDwbbHAeUIuQC5Tvz/EASLB6ryywF/3YsB44i/B64ywQJigi8AqtQjB13Pjvy2wicCgcri/vpO1vsoQxMBHaqc/wGiOQLb1OMAb94a/1MqfwHRgnsAhJBVAyTEXPgSKu8Ckngc/DWpqQJ7MXL7TcxTAC5U9QDqxlUDViPPASwciQLgrFcEkQGW/Ywvnv5iIGEBOJQbB0FalQDLA+75ymGe+vYILwYD1wsCS4y5AWmEowKDoE0Be5BXAkBtpQHkbH8FWQ6vAhLIIvz60X0AMRxTB2sLDv+PM076K5JS/ksS6vuafgL9AAwzBaZ2wPlzRGMDZ5LjAyp/kwMTE0cAiV4vABFrMv5nNzcCsAsY+1nyOvztDfb+Gz+k/Kv8KwD8xYUCBLp1AiR2gvrC2UEGeF7nAks84P2UG8MAiNFrArBCPvtjiA8E8AMvAMQ7rv5jvHUCo+Ci/1QiBQPzb6cAJ6wS/xq/LP+4FZUB8JGq/oYnKwHRg778OTCZB77r8wIsuJkAFWkO/7tg5P7lg2z6qOGtAURN/QEHeGrx2tq+/Z6wLwAemCb8z4SDA3h0KwTVViEDi5QHBmsKJQemEg0HOGIvAxwJlQHR9CMANhDHAWoKEPh1KZUDtFOG/TL0/v7dFD0HXw5k/ZfQ6wEv9REF9cI89GIp5QNQINUHaNNK9jeATQBwfhj+HrwDBRQX1wA0DdkBpaShBj3jiwA4cLMAq4YO/NNGxP2DsFsHT5WVAhmoNPgvhGUB63IhAV9cfv9XFpsD/vGxBJuEBv3Lf8sAf7Q3Bdd2JQXasMUCwdkvAKa80v1PLBMFrkqm9eQaWP/IpvD/q+0u/xBF2QClzwL9LnUbAhHUfwT4WjEAiUpw/5iDfwDF2K8Ak99LADT2MQL5eT7/gCZLA1EdawCQLrT8yoibAf1gCQLc+PkFwJ/U/kY8jvjTZa0DnVgRAcyvVwPP9kj76/PQ9ADxvwNNORMC/BMDArG0dwIleMEFDnUE/ZwWuP6Lo5MAkHezARu1UwFqsI8FcUc/AsXdxwH7OxL5H+dTA1NivP7zLEcGLTI1AgZylv+CIA8E0n93At81GPUTpBcG63BPBykODwOdEDMHJE4dAgsZHwCAmikEE9hDBSMi4vtExHb+nHwJAWpWMQB9ks8C4DhbAFKoLQFiPY0Ce+BTBc+uHQJYkt8CrDLXAlA8fwRzCqj9GeAZAJdTVwIXsQL9Q8Ay/uz9MQDrjM0B+GyjA/gG1wM+TjsB55Fs/aGTTP+ubDz+KXLm9Go3/wAE+AMGNtgDAuUYHwZQte8DIMhtA1AVHwLHsHsFerri/C2gVQTtPYj6+ZjDAStYUwGGNFkBUHL/Aj3uSQOjEbD4fZMzAB+L+P0SXGUCPe9e9jb5PwFcAtj4dZ65A0OCuPvbd6j89wH5Ah2eNvt2gpD/UqDRBy6Kxv/vM5sCfZ1fAfON9vrOR5T9d5XtALSf7wMnakMDFh+HAv0EDweIOG0CkYK8/7r3WwGNjZ8CUTFrA0xByvhR4ZUC7zw4//LXKwK9Z4sCLudTACFqJwK/kPD1X1xlA3J3VwIiY/j8cXSPALx6swC71Y0BbkNU+ENGdv/BU7sBZL6zAHVHAv2SyN0B+1xvB4zqDQAv2iUEPBpe+FibxPm3t/cCMPr/A5IQLwQVy9T6tj4hBoikIv4X6678yNMjAxHTLv+WdD8BesNo9Zw5mQHMf8cCq8YxBPUvZP4m3aD+9dhxAuINnPiSLn8BkJJ8962G+vzX/jUBFGmq/kg06vzlT7b/xs53AaLcPPz+haEBtlNc/tZl1QJtZ6sBXFYE/JAn/wOaxzD+L3LfA5qaVQGdljL9yWOHAofwYP/Gm5MCtUotBFcYlvxR6EsE=",
          "dtype": "f4"
         }
        },
        {
         "hovertemplate": "color=1<br>x=%{x}<br>y=%{y}<br>z=%{z}<extra></extra>",
         "legendgroup": "1",
         "marker": {
          "color": "#19d3f3",
          "opacity": 0.8,
          "symbol": "circle"
         },
         "mode": "markers",
         "name": "1",
         "scene": "scene",
         "showlegend": true,
         "type": "scatter3d",
         "x": {
          "bdata": "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",
          "dtype": "f4"
         },
         "y": {
          "bdata": "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",
          "dtype": "f4"
         },
         "z": {
          "bdata": "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",
          "dtype": "f4"
         }
        },
        {
         "hovertemplate": "color=2<br>x=%{x}<br>y=%{y}<br>z=%{z}<extra></extra>",
         "legendgroup": "2",
         "marker": {
          "color": "#FF6692",
          "opacity": 0.8,
          "symbol": "circle"
         },
         "mode": "markers",
         "name": "2",
         "scene": "scene",
         "showlegend": true,
         "type": "scatter3d",
         "x": {
          "bdata": "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",
          "dtype": "f4"
         },
         "y": {
          "bdata": "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",
          "dtype": "f4"
         },
         "z": {
          "bdata": "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",
          "dtype": "f4"
         }
        }
       ],
       "layout": {
        "legend": {
         "title": {
          "text": "color"
         },
         "tracegroupgap": 0
        },
        "scene": {
         "domain": {
          "x": [
           0,
           1
          ],
          "y": [
           0,
           1
          ]
         },
         "xaxis": {
          "title": {
           "text": "x"
          }
         },
         "yaxis": {
          "title": {
           "text": "y"
          }
         },
         "zaxis": {
          "title": {
           "text": "z"
          }
         }
        },
        "template": {
         "data": {
          "bar": [
           {
            "error_x": {
             "color": "#2a3f5f"
            },
            "error_y": {
             "color": "#2a3f5f"
            },
            "marker": {
             "line": {
              "color": "#E5ECF6",
              "width": 0.5
             },
             "pattern": {
              "fillmode": "overlay",
              "size": 10,
              "solidity": 0.2
             }
            },
            "type": "bar"
           }
          ],
          "barpolar": [
           {
            "marker": {
             "line": {
              "color": "#E5ECF6",
              "width": 0.5
             },
             "pattern": {
              "fillmode": "overlay",
              "size": 10,
              "solidity": 0.2
             }
            },
            "type": "barpolar"
           }
          ],
          "carpet": [
           {
            "aaxis": {
             "endlinecolor": "#2a3f5f",
             "gridcolor": "white",
             "linecolor": "white",
             "minorgridcolor": "white",
             "startlinecolor": "#2a3f5f"
            },
            "baxis": {
             "endlinecolor": "#2a3f5f",
             "gridcolor": "white",
             "linecolor": "white",
             "minorgridcolor": "white",
             "startlinecolor": "#2a3f5f"
            },
            "type": "carpet"
           }
          ],
          "choropleth": [
           {
            "colorbar": {
             "outlinewidth": 0,
             "ticks": ""
            },
            "type": "choropleth"
           }
          ],
          "contour": [
           {
            "colorbar": {
             "outlinewidth": 0,
             "ticks": ""
            },
            "colorscale": [
             [
              0,
              "#0d0887"
             ],
             [
              0.1111111111111111,
              "#46039f"
             ],
             [
              0.2222222222222222,
              "#7201a8"
             ],
             [
              0.3333333333333333,
              "#9c179e"
             ],
             [
              0.4444444444444444,
              "#bd3786"
             ],
             [
              0.5555555555555556,
              "#d8576b"
             ],
             [
              0.6666666666666666,
              "#ed7953"
             ],
             [
              0.7777777777777778,
              "#fb9f3a"
             ],
             [
              0.8888888888888888,
              "#fdca26"
             ],
             [
              1,
              "#f0f921"
             ]
            ],
            "type": "contour"
           }
          ],
          "contourcarpet": [
           {
            "colorbar": {
             "outlinewidth": 0,
             "ticks": ""
            },
            "type": "contourcarpet"
           }
          ],
          "heatmap": [
           {
            "colorbar": {
             "outlinewidth": 0,
             "ticks": ""
            },
            "colorscale": [
             [
              0,
              "#0d0887"
             ],
             [
              0.1111111111111111,
              "#46039f"
             ],
             [
              0.2222222222222222,
              "#7201a8"
             ],
             [
              0.3333333333333333,
              "#9c179e"
             ],
             [
              0.4444444444444444,
              "#bd3786"
             ],
             [
              0.5555555555555556,
              "#d8576b"
             ],
             [
              0.6666666666666666,
              "#ed7953"
             ],
             [
              0.7777777777777778,
              "#fb9f3a"
             ],
             [
              0.8888888888888888,
              "#fdca26"
             ],
             [
              1,
              "#f0f921"
             ]
            ],
            "type": "heatmap"
           }
          ],
          "histogram": [
           {
            "marker": {
             "pattern": {
              "fillmode": "overlay",
              "size": 10,
              "solidity": 0.2
             }
            },
            "type": "histogram"
           }
          ],
          "histogram2d": [
           {
            "colorbar": {
             "outlinewidth": 0,
             "ticks": ""
            },
            "colorscale": [
             [
              0,
              "#0d0887"
             ],
             [
              0.1111111111111111,
              "#46039f"
             ],
             [
              0.2222222222222222,
              "#7201a8"
             ],
             [
              0.3333333333333333,
              "#9c179e"
             ],
             [
              0.4444444444444444,
              "#bd3786"
             ],
             [
              0.5555555555555556,
              "#d8576b"
             ],
             [
              0.6666666666666666,
              "#ed7953"
             ],
             [
              0.7777777777777778,
              "#fb9f3a"
             ],
             [
              0.8888888888888888,
              "#fdca26"
             ],
             [
              1,
              "#f0f921"
             ]
            ],
            "type": "histogram2d"
           }
          ],
          "histogram2dcontour": [
           {
            "colorbar": {
             "outlinewidth": 0,
             "ticks": ""
            },
            "colorscale": [
             [
              0,
              "#0d0887"
             ],
             [
              0.1111111111111111,
              "#46039f"
             ],
             [
              0.2222222222222222,
              "#7201a8"
             ],
             [
              0.3333333333333333,
              "#9c179e"
             ],
             [
              0.4444444444444444,
              "#bd3786"
             ],
             [
              0.5555555555555556,
              "#d8576b"
             ],
             [
              0.6666666666666666,
              "#ed7953"
             ],
             [
              0.7777777777777778,
              "#fb9f3a"
             ],
             [
              0.8888888888888888,
              "#fdca26"
             ],
             [
              1,
              "#f0f921"
             ]
            ],
            "type": "histogram2dcontour"
           }
          ],
          "mesh3d": [
           {
            "colorbar": {
             "outlinewidth": 0,
             "ticks": ""
            },
            "type": "mesh3d"
           }
          ],
          "parcoords": [
           {
            "line": {
             "colorbar": {
              "outlinewidth": 0,
              "ticks": ""
             }
            },
            "type": "parcoords"
           }
          ],
          "pie": [
           {
            "automargin": true,
            "type": "pie"
           }
          ],
          "scatter": [
           {
            "fillpattern": {
             "fillmode": "overlay",
             "size": 10,
             "solidity": 0.2
            },
            "type": "scatter"
           }
          ],
          "scatter3d": [
           {
            "line": {
             "colorbar": {
              "outlinewidth": 0,
              "ticks": ""
             }
            },
            "marker": {
             "colorbar": {
              "outlinewidth": 0,
              "ticks": ""
             }
            },
            "type": "scatter3d"
           }
          ],
          "scattercarpet": [
           {
            "marker": {
             "colorbar": {
              "outlinewidth": 0,
              "ticks": ""
             }
            },
            "type": "scattercarpet"
           }
          ],
          "scattergeo": [
           {
            "marker": {
             "colorbar": {
              "outlinewidth": 0,
              "ticks": ""
             }
            },
            "type": "scattergeo"
           }
          ],
          "scattergl": [
           {
            "marker": {
             "colorbar": {
              "outlinewidth": 0,
              "ticks": ""
             }
            },
            "type": "scattergl"
           }
          ],
          "scattermap": [
           {
            "marker": {
             "colorbar": {
              "outlinewidth": 0,
              "ticks": ""
             }
            },
            "type": "scattermap"
           }
          ],
          "scattermapbox": [
           {
            "marker": {
             "colorbar": {
              "outlinewidth": 0,
              "ticks": ""
             }
            },
            "type": "scattermapbox"
           }
          ],
          "scatterpolar": [
           {
            "marker": {
             "colorbar": {
              "outlinewidth": 0,
              "ticks": ""
             }
            },
            "type": "scatterpolar"
           }
          ],
          "scatterpolargl": [
           {
            "marker": {
             "colorbar": {
              "outlinewidth": 0,
              "ticks": ""
             }
            },
            "type": "scatterpolargl"
           }
          ],
          "scatterternary": [
           {
            "marker": {
             "colorbar": {
              "outlinewidth": 0,
              "ticks": ""
             }
            },
            "type": "scatterternary"
           }
          ],
          "surface": [
           {
            "colorbar": {
             "outlinewidth": 0,
             "ticks": ""
            },
            "colorscale": [
             [
              0,
              "#0d0887"
             ],
             [
              0.1111111111111111,
              "#46039f"
             ],
             [
              0.2222222222222222,
              "#7201a8"
             ],
             [
              0.3333333333333333,
              "#9c179e"
             ],
             [
              0.4444444444444444,
              "#bd3786"
             ],
             [
              0.5555555555555556,
              "#d8576b"
             ],
             [
              0.6666666666666666,
              "#ed7953"
             ],
             [
              0.7777777777777778,
              "#fb9f3a"
             ],
             [
              0.8888888888888888,
              "#fdca26"
             ],
             [
              1,
              "#f0f921"
             ]
            ],
            "type": "surface"
           }
          ],
          "table": [
           {
            "cells": {
             "fill": {
              "color": "#EBF0F8"
             },
             "line": {
              "color": "white"
             }
            },
            "header": {
             "fill": {
              "color": "#C8D4E3"
             },
             "line": {
              "color": "white"
             }
            },
            "type": "table"
           }
          ]
         },
         "layout": {
          "annotationdefaults": {
           "arrowcolor": "#2a3f5f",
           "arrowhead": 0,
           "arrowwidth": 1
          },
          "autotypenumbers": "strict",
          "coloraxis": {
           "colorbar": {
            "outlinewidth": 0,
            "ticks": ""
           }
          },
          "colorscale": {
           "diverging": [
            [
             0,
             "#8e0152"
            ],
            [
             0.1,
             "#c51b7d"
            ],
            [
             0.2,
             "#de77ae"
            ],
            [
             0.3,
             "#f1b6da"
            ],
            [
             0.4,
             "#fde0ef"
            ],
            [
             0.5,
             "#f7f7f7"
            ],
            [
             0.6,
             "#e6f5d0"
            ],
            [
             0.7,
             "#b8e186"
            ],
            [
             0.8,
             "#7fbc41"
            ],
            [
             0.9,
             "#4d9221"
            ],
            [
             1,
             "#276419"
            ]
           ],
           "sequential": [
            [
             0,
             "#0d0887"
            ],
            [
             0.1111111111111111,
             "#46039f"
            ],
            [
             0.2222222222222222,
             "#7201a8"
            ],
            [
             0.3333333333333333,
             "#9c179e"
            ],
            [
             0.4444444444444444,
             "#bd3786"
            ],
            [
             0.5555555555555556,
             "#d8576b"
            ],
            [
             0.6666666666666666,
             "#ed7953"
            ],
            [
             0.7777777777777778,
             "#fb9f3a"
            ],
            [
             0.8888888888888888,
             "#fdca26"
            ],
            [
             1,
             "#f0f921"
            ]
           ],
           "sequentialminus": [
            [
             0,
             "#0d0887"
            ],
            [
             0.1111111111111111,
             "#46039f"
            ],
            [
             0.2222222222222222,
             "#7201a8"
            ],
            [
             0.3333333333333333,
             "#9c179e"
            ],
            [
             0.4444444444444444,
             "#bd3786"
            ],
            [
             0.5555555555555556,
             "#d8576b"
            ],
            [
             0.6666666666666666,
             "#ed7953"
            ],
            [
             0.7777777777777778,
             "#fb9f3a"
            ],
            [
             0.8888888888888888,
             "#fdca26"
            ],
            [
             1,
             "#f0f921"
            ]
           ]
          },
          "colorway": [
           "#636efa",
           "#EF553B",
           "#00cc96",
           "#ab63fa",
           "#FFA15A",
           "#19d3f3",
           "#FF6692",
           "#B6E880",
           "#FF97FF",
           "#FECB52"
          ],
          "font": {
           "color": "#2a3f5f"
          },
          "geo": {
           "bgcolor": "white",
           "lakecolor": "white",
           "landcolor": "#E5ECF6",
           "showlakes": true,
           "showland": true,
           "subunitcolor": "white"
          },
          "hoverlabel": {
           "align": "left"
          },
          "hovermode": "closest",
          "mapbox": {
           "style": "light"
          },
          "paper_bgcolor": "white",
          "plot_bgcolor": "#E5ECF6",
          "polar": {
           "angularaxis": {
            "gridcolor": "white",
            "linecolor": "white",
            "ticks": ""
           },
           "bgcolor": "#E5ECF6",
           "radialaxis": {
            "gridcolor": "white",
            "linecolor": "white",
            "ticks": ""
           }
          },
          "scene": {
           "xaxis": {
            "backgroundcolor": "#E5ECF6",
            "gridcolor": "white",
            "gridwidth": 2,
            "linecolor": "white",
            "showbackground": true,
            "ticks": "",
            "zerolinecolor": "white"
           },
           "yaxis": {
            "backgroundcolor": "#E5ECF6",
            "gridcolor": "white",
            "gridwidth": 2,
            "linecolor": "white",
            "showbackground": true,
            "ticks": "",
            "zerolinecolor": "white"
           },
           "zaxis": {
            "backgroundcolor": "#E5ECF6",
            "gridcolor": "white",
            "gridwidth": 2,
            "linecolor": "white",
            "showbackground": true,
            "ticks": "",
            "zerolinecolor": "white"
           }
          },
          "shapedefaults": {
           "line": {
            "color": "#2a3f5f"
           }
          },
          "ternary": {
           "aaxis": {
            "gridcolor": "white",
            "linecolor": "white",
            "ticks": ""
           },
           "baxis": {
            "gridcolor": "white",
            "linecolor": "white",
            "ticks": ""
           },
           "bgcolor": "#E5ECF6",
           "caxis": {
            "gridcolor": "white",
            "linecolor": "white",
            "ticks": ""
           }
          },
          "title": {
           "x": 0.05
          },
          "xaxis": {
           "automargin": true,
           "gridcolor": "white",
           "linecolor": "white",
           "ticks": "",
           "title": {
            "standoff": 15
           },
           "zerolinecolor": "white",
           "zerolinewidth": 2
          },
          "yaxis": {
           "automargin": true,
           "gridcolor": "white",
           "linecolor": "white",
           "ticks": "",
           "title": {
            "standoff": 15
           },
           "zerolinecolor": "white",
           "zerolinewidth": 2
          }
         }
        },
        "title": {
         "text": "3D t-SNE Cluster Visualization (k=7)"
        }
       }
      }
     },
     "metadata": {},
     "output_type": "display_data"
    }
   ],
   "source": [
    "from sklearn.manifold import TSNE\n",
    "import plotly.express as px\n",
    "import pandas as pd\n",
    "import numpy as np\n",
    "\n",
    "# Check if Gower distance matrix is valid\n",
    "if np.isnan(gower_distances).any() or np.isinf(gower_distances).any():\n",
    "    raise ValueError(\"⚠️ Gower distance matrix contains NaN or Inf values. Check your preprocessing!\")\n",
    "\n",
    "if gower_distances.shape[0] != gower_distances.shape[1]:\n",
    "    raise ValueError(\"⚠️ Gower distance matrix must be square (NxN).\")\n",
    "\n",
    "# Compute 3D t-SNE projection (Fixing the init='pca' issue)\n",
    "tsne = TSNE(n_components=3, metric='precomputed', init='random', random_state=42)\n",
    "X_tsne_3d = tsne.fit_transform(gower_distances)\n",
    "\n",
    "# Assign best k from evaluation (Make sure best_k exists in cluster_results)\n",
    "best_k = 7\n",
    "if best_k not in cluster_results:\n",
    "    raise ValueError(f\"⚠️ best_k={best_k} is not in cluster_results. Check clustering output!\")\n",
    "\n",
    "labels = cluster_results[best_k]\n",
    "\n",
    "# Create DataFrame for visualization\n",
    "df_plot = pd.DataFrame({'x': X_tsne_3d[:, 0], 'y': X_tsne_3d[:, 1], 'z': X_tsne_3d[:, 2], 'Cluster': labels})\n",
    "\n",
    "# Generate interactive 3D scatter plot\n",
    "fig = px.scatter_3d(df_plot, \n",
    "                    x='x', \n",
    "                    y='y', \n",
    "                    z='z', \n",
    "                    color=df_plot['Cluster'].astype(str),\n",
    "                    title=f\"3D t-SNE Cluster Visualization (k={best_k})\",\n",
    "                    opacity=0.8,  # Adjust transparency\n",
    "                    size_max=1)  # Max point size\n",
    "fig.show()"
   ]
  },
  {
   "cell_type": "code",
   "execution_count": 25,
   "id": "c91cb207",
   "metadata": {},
   "outputs": [
    {
     "name": "stdout",
     "output_type": "stream",
     "text": [
      "🔹 Cluster Characteristics (Original Scale with Categorical Labels Restored):\n"
     ]
    },
    {
     "data": {
      "text/html": [
       "<div>\n",
       "<style scoped>\n",
       "    .dataframe tbody tr th:only-of-type {\n",
       "        vertical-align: middle;\n",
       "    }\n",
       "\n",
       "    .dataframe tbody tr th {\n",
       "        vertical-align: top;\n",
       "    }\n",
       "\n",
       "    .dataframe thead th {\n",
       "        text-align: right;\n",
       "    }\n",
       "</style>\n",
       "<table border=\"1\" class=\"dataframe\">\n",
       "  <thead>\n",
       "    <tr style=\"text-align: right;\">\n",
       "      <th></th>\n",
       "      <th>Age</th>\n",
       "      <th>FamilySize</th>\n",
       "      <th>Income</th>\n",
       "      <th>Wealth</th>\n",
       "      <th>Debt</th>\n",
       "      <th>FinEdu</th>\n",
       "      <th>ESG</th>\n",
       "      <th>Digital</th>\n",
       "      <th>BankFriend</th>\n",
       "      <th>LifeStyle</th>\n",
       "      <th>Luxury</th>\n",
       "      <th>Saving</th>\n",
       "      <th>Gender</th>\n",
       "      <th>Job</th>\n",
       "      <th>Area</th>\n",
       "      <th>CitySize</th>\n",
       "      <th>Investments</th>\n",
       "    </tr>\n",
       "    <tr>\n",
       "      <th>Cluster</th>\n",
       "      <th></th>\n",
       "      <th></th>\n",
       "      <th></th>\n",
       "      <th></th>\n",
       "      <th></th>\n",
       "      <th></th>\n",
       "      <th></th>\n",
       "      <th></th>\n",
       "      <th></th>\n",
       "      <th></th>\n",
       "      <th></th>\n",
       "      <th></th>\n",
       "      <th></th>\n",
       "      <th></th>\n",
       "      <th></th>\n",
       "      <th></th>\n",
       "      <th></th>\n",
       "    </tr>\n",
       "  </thead>\n",
       "  <tbody>\n",
       "    <tr>\n",
       "      <th>0</th>\n",
       "      <td>54.004684</td>\n",
       "      <td>2.382904</td>\n",
       "      <td>0.661092</td>\n",
       "      <td>0.652659</td>\n",
       "      <td>0.506280</td>\n",
       "      <td>0.594475</td>\n",
       "      <td>0.618081</td>\n",
       "      <td>0.617446</td>\n",
       "      <td>0.640366</td>\n",
       "      <td>0.554337</td>\n",
       "      <td>0.571719</td>\n",
       "      <td>0.568142</td>\n",
       "      <td>1</td>\n",
       "      <td>2</td>\n",
       "      <td>1</td>\n",
       "      <td>2</td>\n",
       "      <td>3</td>\n",
       "    </tr>\n",
       "    <tr>\n",
       "      <th>1</th>\n",
       "      <td>68.330132</td>\n",
       "      <td>2.759904</td>\n",
       "      <td>0.518051</td>\n",
       "      <td>0.536872</td>\n",
       "      <td>0.388659</td>\n",
       "      <td>0.448740</td>\n",
       "      <td>0.551638</td>\n",
       "      <td>0.440798</td>\n",
       "      <td>0.579407</td>\n",
       "      <td>0.394030</td>\n",
       "      <td>0.359418</td>\n",
       "      <td>0.518379</td>\n",
       "      <td>1</td>\n",
       "      <td>2</td>\n",
       "      <td>1</td>\n",
       "      <td>1</td>\n",
       "      <td>1</td>\n",
       "    </tr>\n",
       "    <tr>\n",
       "      <th>2</th>\n",
       "      <td>78.335694</td>\n",
       "      <td>2.041076</td>\n",
       "      <td>0.396690</td>\n",
       "      <td>0.401939</td>\n",
       "      <td>0.151855</td>\n",
       "      <td>0.349365</td>\n",
       "      <td>0.612343</td>\n",
       "      <td>0.312001</td>\n",
       "      <td>0.626071</td>\n",
       "      <td>0.264116</td>\n",
       "      <td>0.265527</td>\n",
       "      <td>0.330718</td>\n",
       "      <td>1</td>\n",
       "      <td>5</td>\n",
       "      <td>1</td>\n",
       "      <td>2</td>\n",
       "      <td>2</td>\n",
       "    </tr>\n",
       "    <tr>\n",
       "      <th>3</th>\n",
       "      <td>53.647919</td>\n",
       "      <td>2.835771</td>\n",
       "      <td>0.564921</td>\n",
       "      <td>0.537524</td>\n",
       "      <td>0.491843</td>\n",
       "      <td>0.483006</td>\n",
       "      <td>0.541776</td>\n",
       "      <td>0.507648</td>\n",
       "      <td>0.570693</td>\n",
       "      <td>0.419052</td>\n",
       "      <td>0.445574</td>\n",
       "      <td>0.542173</td>\n",
       "      <td>0</td>\n",
       "      <td>2</td>\n",
       "      <td>1</td>\n",
       "      <td>1</td>\n",
       "      <td>3</td>\n",
       "    </tr>\n",
       "    <tr>\n",
       "      <th>4</th>\n",
       "      <td>52.639155</td>\n",
       "      <td>2.124760</td>\n",
       "      <td>0.767545</td>\n",
       "      <td>0.779449</td>\n",
       "      <td>0.557734</td>\n",
       "      <td>0.685165</td>\n",
       "      <td>0.645021</td>\n",
       "      <td>0.735073</td>\n",
       "      <td>0.742945</td>\n",
       "      <td>0.661342</td>\n",
       "      <td>0.720702</td>\n",
       "      <td>0.585180</td>\n",
       "      <td>0</td>\n",
       "      <td>2</td>\n",
       "      <td>1</td>\n",
       "      <td>3</td>\n",
       "      <td>2</td>\n",
       "    </tr>\n",
       "    <tr>\n",
       "      <th>5</th>\n",
       "      <td>65.946479</td>\n",
       "      <td>2.960563</td>\n",
       "      <td>0.537845</td>\n",
       "      <td>0.570094</td>\n",
       "      <td>0.427727</td>\n",
       "      <td>0.483934</td>\n",
       "      <td>0.532385</td>\n",
       "      <td>0.507484</td>\n",
       "      <td>0.589115</td>\n",
       "      <td>0.429929</td>\n",
       "      <td>0.436229</td>\n",
       "      <td>0.531518</td>\n",
       "      <td>0</td>\n",
       "      <td>2</td>\n",
       "      <td>1</td>\n",
       "      <td>2</td>\n",
       "      <td>2</td>\n",
       "    </tr>\n",
       "    <tr>\n",
       "      <th>6</th>\n",
       "      <td>45.108830</td>\n",
       "      <td>1.924025</td>\n",
       "      <td>0.655125</td>\n",
       "      <td>0.655169</td>\n",
       "      <td>0.518422</td>\n",
       "      <td>0.609818</td>\n",
       "      <td>0.658683</td>\n",
       "      <td>0.674434</td>\n",
       "      <td>0.638861</td>\n",
       "      <td>0.619226</td>\n",
       "      <td>0.654065</td>\n",
       "      <td>0.597242</td>\n",
       "      <td>1</td>\n",
       "      <td>2</td>\n",
       "      <td>1</td>\n",
       "      <td>3</td>\n",
       "      <td>2</td>\n",
       "    </tr>\n",
       "  </tbody>\n",
       "</table>\n",
       "</div>"
      ],
      "text/plain": [
       "               Age  FamilySize    Income    Wealth      Debt    FinEdu  \\\n",
       "Cluster                                                                  \n",
       "0        54.004684    2.382904  0.661092  0.652659  0.506280  0.594475   \n",
       "1        68.330132    2.759904  0.518051  0.536872  0.388659  0.448740   \n",
       "2        78.335694    2.041076  0.396690  0.401939  0.151855  0.349365   \n",
       "3        53.647919    2.835771  0.564921  0.537524  0.491843  0.483006   \n",
       "4        52.639155    2.124760  0.767545  0.779449  0.557734  0.685165   \n",
       "5        65.946479    2.960563  0.537845  0.570094  0.427727  0.483934   \n",
       "6        45.108830    1.924025  0.655125  0.655169  0.518422  0.609818   \n",
       "\n",
       "              ESG   Digital  BankFriend  LifeStyle    Luxury    Saving Gender  \\\n",
       "Cluster                                                                         \n",
       "0        0.618081  0.617446    0.640366   0.554337  0.571719  0.568142      1   \n",
       "1        0.551638  0.440798    0.579407   0.394030  0.359418  0.518379      1   \n",
       "2        0.612343  0.312001    0.626071   0.264116  0.265527  0.330718      1   \n",
       "3        0.541776  0.507648    0.570693   0.419052  0.445574  0.542173      0   \n",
       "4        0.645021  0.735073    0.742945   0.661342  0.720702  0.585180      0   \n",
       "5        0.532385  0.507484    0.589115   0.429929  0.436229  0.531518      0   \n",
       "6        0.658683  0.674434    0.638861   0.619226  0.654065  0.597242      1   \n",
       "\n",
       "        Job Area CitySize Investments  \n",
       "Cluster                                \n",
       "0         2    1        2           3  \n",
       "1         2    1        1           1  \n",
       "2         5    1        2           2  \n",
       "3         2    1        1           3  \n",
       "4         2    1        3           2  \n",
       "5         2    1        2           2  \n",
       "6         2    1        3           2  "
      ]
     },
     "metadata": {},
     "output_type": "display_data"
    }
   ],
   "source": [
    "import pandas as pd\n",
    "from IPython.display import display\n",
    "import numpy as np\n",
    "\n",
    "# Restore feature names for numerical and categorical variables\n",
    "encoded_feature_names = encoder.get_feature_names_out(categorical_columns)\n",
    "all_feature_names = numerical_features.columns.tolist() + encoded_feature_names.tolist()\n",
    "\n",
    "# Convert back to DataFrame with proper labels\n",
    "cluster_summary = pd.DataFrame(X_preprocessed, columns=all_feature_names)\n",
    "cluster_summary['Cluster'] = labels\n",
    "\n",
    "# Compute mean of each feature per cluster\n",
    "summary = cluster_summary.groupby('Cluster').mean()\n",
    "\n",
    "# Reverse MinMax scaling to restore original numerical values\n",
    "summary_original_scale = summary.copy()\n",
    "summary_original_scale[numerical_features.columns] = scaler.inverse_transform(summary[numerical_features.columns])\n",
    "\n",
    "# Convert one-hot encoded categorical values back to original labels\n",
    "for i, cat_col in enumerate(categorical_columns):\n",
    "    # Identify the one-hot encoded column names for this categorical feature\n",
    "    one_hot_columns = [col for col in summary_original_scale.columns if col.startswith(cat_col + \"_\")]\n",
    "\n",
    "    # Get the most likely category per cluster using argmax\n",
    "    summary_original_scale[cat_col] = summary_original_scale[one_hot_columns].idxmax(axis=1)\n",
    "\n",
    "    # Convert from \"Category_X\" to just \"X\"\n",
    "    summary_original_scale[cat_col] = summary_original_scale[cat_col].str.split('_').str[1]\n",
    "\n",
    "    # Drop the one-hot encoded columns\n",
    "    summary_original_scale = summary_original_scale.drop(columns=one_hot_columns)\n",
    "\n",
    "# Display the DataFrame as a readable table\n",
    "print(\"🔹 Cluster Characteristics (Original Scale with Categorical Labels Restored):\")\n",
    "display(summary_original_scale)  # Using Jupyter's display() for better formatting"
   ]
  }
 ],
 "metadata": {
  "kernelspec": {
   "display_name": ".venv",
   "language": "python",
   "name": "python3"
  },
  "language_info": {
   "codemirror_mode": {
    "name": "ipython",
    "version": 3
   },
   "file_extension": ".py",
   "mimetype": "text/x-python",
   "name": "python",
   "nbconvert_exporter": "python",
   "pygments_lexer": "ipython3",
   "version": "3.9.15"
  }
 },
 "nbformat": 4,
 "nbformat_minor": 5
}
