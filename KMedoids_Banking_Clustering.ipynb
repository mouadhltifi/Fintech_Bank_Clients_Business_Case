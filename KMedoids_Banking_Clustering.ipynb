{
 "cells": [
  {
   "cell_type": "markdown",
   "id": "08b45387",
   "metadata": {},
   "source": [
    "# **Banking Client Segmentation using K-Medoids**\n",
    "\n",
    "This notebook implements a **complete clustering pipeline** for **banking clients segmentation** using the **K-Medoids algorithm**.\n",
    "\n",
    "## **Pipeline Overview:**\n",
    "1. **Load & Preprocess Data** (Handling categorical & numerical features)\n",
    "2. **Compute Gower Distance** (for mixed data types)\n",
    "3. **Apply K-Medoids Clustering**\n",
    "4. **Evaluate Clustering Performance**\n",
    "5. **Visualize Results using t-SNE**\n",
    "6. **Interpret the Clusters** (Understanding the characteristics of each group)\n"
   ]
  },
  {
   "cell_type": "code",
   "execution_count": 19,
   "id": "854dc918",
   "metadata": {},
   "outputs": [
    {
     "data": {
      "text/html": [
       "<div>\n",
       "<style scoped>\n",
       "    .dataframe tbody tr th:only-of-type {\n",
       "        vertical-align: middle;\n",
       "    }\n",
       "\n",
       "    .dataframe tbody tr th {\n",
       "        vertical-align: top;\n",
       "    }\n",
       "\n",
       "    .dataframe thead th {\n",
       "        text-align: right;\n",
       "    }\n",
       "</style>\n",
       "<table border=\"1\" class=\"dataframe\">\n",
       "  <thead>\n",
       "    <tr style=\"text-align: right;\">\n",
       "      <th></th>\n",
       "      <th>Age</th>\n",
       "      <th>Gender</th>\n",
       "      <th>Job</th>\n",
       "      <th>Area</th>\n",
       "      <th>CitySize</th>\n",
       "      <th>FamilySize</th>\n",
       "      <th>Income</th>\n",
       "      <th>Wealth</th>\n",
       "      <th>Debt</th>\n",
       "      <th>FinEdu</th>\n",
       "      <th>ESG</th>\n",
       "      <th>Digital</th>\n",
       "      <th>BankFriend</th>\n",
       "      <th>LifeStyle</th>\n",
       "      <th>Luxury</th>\n",
       "      <th>Saving</th>\n",
       "      <th>Investments</th>\n",
       "    </tr>\n",
       "  </thead>\n",
       "  <tbody>\n",
       "    <tr>\n",
       "      <th>0</th>\n",
       "      <td>24</td>\n",
       "      <td>1</td>\n",
       "      <td>1</td>\n",
       "      <td>2</td>\n",
       "      <td>2</td>\n",
       "      <td>4</td>\n",
       "      <td>0.668046</td>\n",
       "      <td>0.702786</td>\n",
       "      <td>0.262070</td>\n",
       "      <td>0.741853</td>\n",
       "      <td>0.483684</td>\n",
       "      <td>0.698625</td>\n",
       "      <td>0.618259</td>\n",
       "      <td>0.607877</td>\n",
       "      <td>0.897369</td>\n",
       "      <td>0.283222</td>\n",
       "      <td>1</td>\n",
       "    </tr>\n",
       "    <tr>\n",
       "      <th>1</th>\n",
       "      <td>47</td>\n",
       "      <td>1</td>\n",
       "      <td>2</td>\n",
       "      <td>2</td>\n",
       "      <td>3</td>\n",
       "      <td>1</td>\n",
       "      <td>0.858453</td>\n",
       "      <td>0.915043</td>\n",
       "      <td>0.730430</td>\n",
       "      <td>0.859423</td>\n",
       "      <td>0.537167</td>\n",
       "      <td>0.959025</td>\n",
       "      <td>0.785936</td>\n",
       "      <td>0.862271</td>\n",
       "      <td>0.913729</td>\n",
       "      <td>0.821590</td>\n",
       "      <td>3</td>\n",
       "    </tr>\n",
       "    <tr>\n",
       "      <th>2</th>\n",
       "      <td>38</td>\n",
       "      <td>0</td>\n",
       "      <td>2</td>\n",
       "      <td>1</td>\n",
       "      <td>2</td>\n",
       "      <td>2</td>\n",
       "      <td>0.926818</td>\n",
       "      <td>0.898316</td>\n",
       "      <td>0.441272</td>\n",
       "      <td>0.485953</td>\n",
       "      <td>0.649434</td>\n",
       "      <td>0.750265</td>\n",
       "      <td>0.699725</td>\n",
       "      <td>0.755404</td>\n",
       "      <td>0.765199</td>\n",
       "      <td>0.503790</td>\n",
       "      <td>3</td>\n",
       "    </tr>\n",
       "    <tr>\n",
       "      <th>3</th>\n",
       "      <td>67</td>\n",
       "      <td>0</td>\n",
       "      <td>2</td>\n",
       "      <td>1</td>\n",
       "      <td>2</td>\n",
       "      <td>3</td>\n",
       "      <td>0.538797</td>\n",
       "      <td>0.423180</td>\n",
       "      <td>0.600401</td>\n",
       "      <td>0.493144</td>\n",
       "      <td>0.533829</td>\n",
       "      <td>0.590165</td>\n",
       "      <td>0.675353</td>\n",
       "      <td>0.334432</td>\n",
       "      <td>0.517209</td>\n",
       "      <td>0.691240</td>\n",
       "      <td>2</td>\n",
       "    </tr>\n",
       "    <tr>\n",
       "      <th>4</th>\n",
       "      <td>33</td>\n",
       "      <td>0</td>\n",
       "      <td>2</td>\n",
       "      <td>1</td>\n",
       "      <td>3</td>\n",
       "      <td>1</td>\n",
       "      <td>0.806659</td>\n",
       "      <td>0.731404</td>\n",
       "      <td>0.831449</td>\n",
       "      <td>0.856286</td>\n",
       "      <td>0.784940</td>\n",
       "      <td>0.710026</td>\n",
       "      <td>0.758793</td>\n",
       "      <td>0.908878</td>\n",
       "      <td>0.611610</td>\n",
       "      <td>0.615916</td>\n",
       "      <td>2</td>\n",
       "    </tr>\n",
       "  </tbody>\n",
       "</table>\n",
       "</div>"
      ],
      "text/plain": [
       "   Age  Gender  Job  Area  CitySize  FamilySize    Income    Wealth      Debt  \\\n",
       "0   24       1    1     2         2           4  0.668046  0.702786  0.262070   \n",
       "1   47       1    2     2         3           1  0.858453  0.915043  0.730430   \n",
       "2   38       0    2     1         2           2  0.926818  0.898316  0.441272   \n",
       "3   67       0    2     1         2           3  0.538797  0.423180  0.600401   \n",
       "4   33       0    2     1         3           1  0.806659  0.731404  0.831449   \n",
       "\n",
       "     FinEdu       ESG   Digital  BankFriend  LifeStyle    Luxury    Saving  \\\n",
       "0  0.741853  0.483684  0.698625    0.618259   0.607877  0.897369  0.283222   \n",
       "1  0.859423  0.537167  0.959025    0.785936   0.862271  0.913729  0.821590   \n",
       "2  0.485953  0.649434  0.750265    0.699725   0.755404  0.765199  0.503790   \n",
       "3  0.493144  0.533829  0.590165    0.675353   0.334432  0.517209  0.691240   \n",
       "4  0.856286  0.784940  0.710026    0.758793   0.908878  0.611610  0.615916   \n",
       "\n",
       "   Investments  \n",
       "0            1  \n",
       "1            3  \n",
       "2            3  \n",
       "3            2  \n",
       "4            2  "
      ]
     },
     "execution_count": 19,
     "metadata": {},
     "output_type": "execute_result"
    }
   ],
   "source": [
    "import pandas as pd\n",
    "import numpy as np\n",
    "\n",
    "# Load dataset (Update path if necessary)\n",
    "path = '/Users/mouadh/Fintech_Projects/Business_Case_1/Dataset1_BankClients.xlsx'\n",
    "data = pd.read_excel(path)\n",
    "\n",
    "# Drop ID column if present\n",
    "if 'ID' in data.columns:\n",
    "    data = data.drop(columns=['ID'])\n",
    "\n",
    "# Display first 5 rows\n",
    "data.head()\n"
   ]
  },
  {
   "cell_type": "code",
   "execution_count": 20,
   "id": "56bc2d55",
   "metadata": {},
   "outputs": [
    {
     "name": "stdout",
     "output_type": "stream",
     "text": [
      "Processed Data Shape: (5000, 28)\n",
      "\n",
      "First 5 rows of processed data:\n",
      "        Age  FamilySize    Income    Wealth      Debt    FinEdu       ESG  \\\n",
      "0  0.065789         0.6  0.679599  0.705895  0.268264  0.770735  0.465122   \n",
      "1  0.368421         0.0  0.873299  0.919090  0.747693  0.892883  0.521675   \n",
      "2  0.250000         0.2  0.942846  0.902289  0.451701  0.504873  0.640388   \n",
      "3  0.631579         0.4  0.548115  0.425051  0.614591  0.512343  0.518146   \n",
      "4  0.184211         0.0  0.820609  0.734639  0.851100  0.889625  0.783674   \n",
      "\n",
      "    Digital  BankFriend  LifeStyle  ...  Job_5  Area_1  Area_2  Area_3  \\\n",
      "0  0.718914    0.581720   0.612604  ...    0.0     0.0     1.0     0.0   \n",
      "1  0.986877    0.778748   0.868977  ...    0.0     0.0     1.0     0.0   \n",
      "2  0.772055    0.677446   0.761279  ...    0.0     1.0     0.0     0.0   \n",
      "3  0.607305    0.648808   0.337033  ...    0.0     1.0     0.0     0.0   \n",
      "4  0.730646    0.746853   0.915946  ...    0.0     1.0     0.0     0.0   \n",
      "\n",
      "   CitySize_1  CitySize_2  CitySize_3  Investments_1  Investments_2  \\\n",
      "0         0.0         1.0         0.0            1.0            0.0   \n",
      "1         0.0         0.0         1.0            0.0            0.0   \n",
      "2         0.0         1.0         0.0            0.0            0.0   \n",
      "3         0.0         1.0         0.0            0.0            1.0   \n",
      "4         0.0         0.0         1.0            0.0            1.0   \n",
      "\n",
      "   Investments_3  \n",
      "0            0.0  \n",
      "1            1.0  \n",
      "2            1.0  \n",
      "3            0.0  \n",
      "4            0.0  \n",
      "\n",
      "[5 rows x 28 columns]\n"
     ]
    }
   ],
   "source": [
    "from sklearn.preprocessing import MinMaxScaler, OneHotEncoder\n",
    "import pandas as pd\n",
    "import numpy as np\n",
    "\n",
    "# Define categorical columns\n",
    "categorical_columns = ['Gender', 'Job', 'Area', 'CitySize', 'Investments']\n",
    "\n",
    "# Separate numerical & categorical features\n",
    "numerical_features = data.drop(columns=categorical_columns)\n",
    "categorical_features = data[categorical_columns]\n",
    "\n",
    "# Scale numerical features\n",
    "scaler = MinMaxScaler()\n",
    "X_num_scaled = scaler.fit_transform(numerical_features)\n",
    "\n",
    "# One-hot encode categorical features\n",
    "encoder = OneHotEncoder(sparse_output=False, handle_unknown='ignore')\n",
    "X_cat_encoded = encoder.fit_transform(categorical_features)\n",
    "\n",
    "# Get feature names from OneHotEncoder\n",
    "encoded_feature_names = encoder.get_feature_names_out(categorical_columns)\n",
    "\n",
    "# Concatenate processed features\n",
    "X_preprocessed = np.concatenate((X_num_scaled, X_cat_encoded), axis=1)\n",
    "\n",
    "# Convert to DataFrame for readability\n",
    "all_feature_names = numerical_features.columns.tolist() + encoded_feature_names.tolist()\n",
    "X_df = pd.DataFrame(X_preprocessed, columns=all_feature_names)\n",
    "\n",
    "# Display first 5 rows\n",
    "print(f'Processed Data Shape: {X_preprocessed.shape}')\n",
    "print(\"\\nFirst 5 rows of processed data:\")\n",
    "print(X_df.head())"
   ]
  },
  {
   "cell_type": "code",
   "execution_count": 21,
   "id": "056c8a1f",
   "metadata": {},
   "outputs": [
    {
     "data": {
      "text/plain": [
       "array([[0.        , 0.3308228 , 0.3688255 , 0.3962298 , 0.46500587],\n",
       "       [0.3308228 , 0.        , 0.28962833, 0.4133628 , 0.27291024],\n",
       "       [0.3688255 , 0.28962833, 0.        , 0.17167616, 0.21496232],\n",
       "       [0.3962298 , 0.4133628 , 0.17167616, 0.        , 0.18863821],\n",
       "       [0.46500587, 0.27291024, 0.21496232, 0.18863821, 0.        ]],\n",
       "      dtype=float32)"
      ]
     },
     "execution_count": 21,
     "metadata": {},
     "output_type": "execute_result"
    }
   ],
   "source": [
    "import gower\n",
    "\n",
    "# Compute Gower Distance Matrix\n",
    "gower_distances = gower.gower_matrix(X_preprocessed)\n",
    "\n",
    "# Display first 5 rows\n",
    "gower_distances[:5, :5]\n"
   ]
  },
  {
   "cell_type": "code",
   "execution_count": 22,
   "id": "1921b61c",
   "metadata": {},
   "outputs": [
    {
     "name": "stdout",
     "output_type": "stream",
     "text": [
      "Clustering with k=3...\n",
      "Clustering with k=4...\n",
      "Clustering with k=5...\n",
      "Clustering with k=6...\n",
      "Clustering with k=7...\n",
      "Clustering with k=8...\n",
      "Clustering with k=9...\n",
      "Clustering with k=10...\n",
      "✅ Clustering Completed\n"
     ]
    }
   ],
   "source": [
    "from sklearn_extra.cluster import KMedoids\n",
    "\n",
    "# Define number of clusters\n",
    "k_values = [3, 4, 5, 6, 7, 8, 9, 10]\n",
    "\n",
    "# Store clustering results\n",
    "cluster_results = {}\n",
    "\n",
    "for k in k_values:\n",
    "    print(f'Clustering with k={k}...')\n",
    "    \n",
    "    # Run K-Medoids\n",
    "    kmedoids = KMedoids(n_clusters=k, metric='precomputed', random_state=42, init='k-medoids++', max_iter=300)\n",
    "    labels = kmedoids.fit_predict(gower_distances)\n",
    "    \n",
    "    # Store results\n",
    "    cluster_results[k] = labels\n",
    "\n",
    "print(\"✅ Clustering Completed\")\n"
   ]
  },
  {
   "cell_type": "code",
   "execution_count": 23,
   "id": "c538a3b7",
   "metadata": {},
   "outputs": [
    {
     "data": {
      "image/png": "[encoded data removed]",
      "text/plain": [
       "<Figure size 1500x500 with 3 Axes>"
      ]
     },
     "metadata": {},
     "output_type": "display_data"
    },
    {
     "name": "stdout",
     "output_type": "stream",
     "text": [
      "✅ Optimal k (CH): 3\n",
      "✅ Optimal k (DB): 7\n",
      "✅ Optimal k (Silhouette): 6\n"
     ]
    }
   ],
   "source": [
    "import matplotlib.pyplot as plt\n",
    "from sklearn.metrics import calinski_harabasz_score, davies_bouldin_score, silhouette_score\n",
    "\n",
    "# Evaluate clustering\n",
    "def evaluate_clustering(X, cluster_results, gower_distances=None):\n",
    "    if not cluster_results:\n",
    "        print(\"⚠️ No clustering results provided. Exiting evaluation.\")\n",
    "        return None, None, None\n",
    "\n",
    "    k_values = list(cluster_results.keys())\n",
    "\n",
    "    ch_scores, db_scores, sil_scores = [], [], []\n",
    "\n",
    "    for k in k_values:\n",
    "        labels = cluster_results[k]\n",
    "\n",
    "        try:\n",
    "            ch_scores.append(calinski_harabasz_score(X, labels))\n",
    "            db_scores.append(davies_bouldin_score(X, labels))\n",
    "            sil_scores.append(silhouette_score(gower_distances, labels, metric='precomputed'))\n",
    "        except ValueError as e:\n",
    "            print(f\"⚠️ Skipping k={k} due to an error: {e}\")\n",
    "            ch_scores.append(np.nan)\n",
    "            db_scores.append(np.nan)\n",
    "            sil_scores.append(np.nan)\n",
    "\n",
    "    # Plot metrics\n",
    "    fig, (ax1, ax2, ax3) = plt.subplots(1, 3, figsize=(15, 5))\n",
    "\n",
    "    ax1.plot(k_values, ch_scores, 'bo-')\n",
    "    ax1.set_title('Calinski-Harabasz Score')\n",
    "    ax1.set_xlabel('Number of Clusters')\n",
    "\n",
    "    ax2.plot(k_values, db_scores, 'ro-')\n",
    "    ax2.set_title('Davies-Bouldin Score')\n",
    "    ax2.set_xlabel('Number of Clusters')\n",
    "\n",
    "    ax3.plot(k_values, sil_scores, 'go-')\n",
    "    ax3.set_title('Silhouette Score')\n",
    "    ax3.set_xlabel('Number of Clusters')\n",
    "\n",
    "    plt.tight_layout()\n",
    "    plt.show()\n",
    "\n",
    "    print(f\"✅ Optimal k (CH): {k_values[np.argmax(ch_scores)]}\")\n",
    "    print(f\"✅ Optimal k (DB): {k_values[np.argmin(db_scores)]}\")\n",
    "    print(f\"✅ Optimal k (Silhouette): {k_values[np.argmax(sil_scores)]}\")\n",
    "\n",
    "    return ch_scores, db_scores, sil_scores\n",
    "\n",
    "# Evaluate clustering\n",
    "ch_scores, db_scores, sil_scores = evaluate_clustering(X_preprocessed, cluster_results, gower_distances)\n"
   ]
  },
  {
   "cell_type": "code",
   "execution_count": 40,
   "id": "eae30107",
   "metadata": {},
   "outputs": [
    {
     "data": {
      "application/vnd.plotly.v1+json": {
       "config": {
        "plotlyServerURL": "https://plot.ly"
       },
       "data": [
        {
         "marker": {
          "color": {
           "bdata": "AAYDBQQDBgECBAUCAQEDAQEBAQIEBAEAAAEFBQYCBAUCAgEDAAUBAwUBBAACBAEDBQEEBAICAAIDAwQABQMFAgYFBAUBAgYABAUCAwUBAgEBAgYDAwACAgADAwYEBQAEAwMCAAEEBgYEAQQEAAYAAgYBBgMEAwAAAgEFAgMAAQAEAQICAAEBAgAFAwUGAAEEAgEBAgAGAgUEAwIBBAEAAwQFAQQFAQEBAAIAAQQFAAMDAwYCAgYCAAAEBgIDAAQEAgYFAwEBAQIDAgIGAwMEAwMBAgQGBgMBAAADBAUDBAEBAQQGAAAGBQADAwECBQQGAgUABQEGAwIFAwYABQMBAwUCAQEEBQQFAAIBBQADAgUEBAUDAgYDBAYCAQEFAwYGBQQEBAYFAAMBAwIBAwADBgAAAQUBAgIFAgAEBgECAgYBBAMFAwEAAAIBAgABAQIFBQQEAwEGAQMAAQYBAgMCAAEABAMCAwMBBQQCAQACBAAAAAABAAIFBQYCAQMBAwAAAQICAgIGBgMDBQECBQEDAwMEAwUGBAIGAQUCAQUBAwACAgEDAgMDAQYCBgMDAAQFBQAFAwUAAwYCAgUGBAMDAAMBAwEBAwMDAwUBAwEBAAUBAQADBQICAwAGBgECAAUFBgUFBQICAAEGBgUDAAAGAAEGAQQBAQAGBAECBQUGBgAFBQADAgQAAwAAAAAGAQMDAQAEAQUCAwABBgAFBAAABAMFAwEDBgMGBQIBAgQFAQAFAAAAAwICBQUAAwMFAQMCAAQAAwYDBgUFBAIBBQMFBQMAAgEDBgMAAwIDAQMDAQQCAwIAAwMBBAIBAgEFAAQEAQAGAgEDAgIDBQABBAEDAwMDAwUDAAICBgIGAQEAAAUEAAQEBgQABgQABQEFAQYBAwIEBgYGBAYFBQMAAAEFAQICBgMDAQQBAAMBBQMDBQUABQEDAgAGBQUFBQABAgMDAgQFAwUDAQIDAwIABgABAQUBAwQGAQEDAAUEAQADBQAABAUBAgYAAgMDAAACBQAEBgIDAwQABAMAAgEEAwUDAQYBBgMFAwYBAQAGAQEBAAAFBgEEBgUAAQMGBgYBAgQAAgYGAwUBAwUDBgEBAAIDAAEBAwAAAQEBAwEFBgADAAAAAQUAAwMCAQMDAwAABAMDAAMDAwMFBQYEAwUBBQQCAQMAAQICAgMDAAECAAYBAwECAQMGBgMAAAQAAgUFAAEGBQUCAAUFAQADAgEEAgEBAwUGAQEBAgIAAQIABAAAAAYBAwYEBgABAQMFAQUBAgIEAAMGAAAEAQEAAQIGBQUFAQECAwABAQMAAQMCAwECBgIAAwYEAAUEAgYDAQUDBAMBAgEDAwICBQEFAgIBAgEFBQUBBQABBAACAgIAAgABBQQGAAYFAwUCAwEDAwABBAIEAAYDBAADBgMFBAUEAQMFAgQAAAYABgMBAwMBBQYFAAECBQAGAwAABAEFAQYBBQMCAAIGBAQDAQAEAAQABAACAwEFBQIFAwYGBgQDAgAABgEAAQQGAQADBQMBBQEGAgAFBgIEAwQEAQQEBgMEAgUDBAMCBQQDAgMAAAMAAwQABQQAAAECAwYBAgMBAgIBAwEABQEDBQECAwECBgEABAEEBQAEAwIDBgUCBAYFAQUFBAIDBQUBAwMDBAUBAwUGAwIDBQQGBAMFAAMDBQECAgIGAwACBgAAAgEDAgUDAwEBBAABAAICBQYDAQUCAAAFAAIGAQECAQMEBAMGBAABAgADAAEAAgECAQQBAQUBAAMBBgADBQMCBQAAAAUFAwUEAgAAAQMGBAEBAQMCAwUBAAQBAAUAAAABAAUAAgYDAwAFAgAEBgEEBQACAgEEAwIBBAEGAQEDBAMEAwQBAgAAAwYABQYDAAAAAwAAAQEGBQEDBAEGAQQEAgAFAgMGAwIFAwUABAUCAgECAAABBAIDAQQDAwICAQUAAwUCBQACAQYCAQIBBAUDBAAABAAAAAUBAAEFAgAFBgYCAwYEAQUCBAIFAgMFAAACBAMAAAUAAAIFBgEEAQAFAAIGAgIFAwQDBQIBBAABAQADAwADAAABAAAFAgUAAQQDAAUFAwIABAIBBgIAAQUABQEFAwIFAwYAAAQGBAMABAACBQYBAgEBAgIFBQUBBAECBQQEAwMBAwIAAAYCAwIAAwECBAIBAAMBAQUFAQEGAQAFAwEFAwIABAMFAwICAwEAAwUFBgIDBQEGAQIAAwMCAwIFAwAFAwUABgIFAgYEAAEEAQAEAwEABQQEAQICAwADBQUBAQQABAEGAgIBBQQGAgADAAEEAgYDAQIAAQMGAQUABQEEAAUDBgMBAwECAgIGAwQFBQUGBgADAwYAAAEAAAADBAMGAAAFAAMCAgEEAAQEAQUCAgEDAQIEAgADAgAEAQUCBAIBAwUEBQMEBgQCAAAAAgUDAwYBAwACBAUDBAUDBAQCAAMDAAUDAAYGAgMBBAYGBQADAAYDAgEBAwEDAQYCAAUABQAFAAEDBgUDAwYDAQQDAAQDBgEEBQIABgUEBQYFBAQEAAUDAAMGAAUFBgEEBAUAAAIDBQUFAAEDAQIDBQMDAAMAAgMDBAIEBQIBAwMDBQMCAwECBAUGAAUDAAECAgECAAAFAQYGAgUEBAIBAwMBAwEEAAEDAAUFBQQBAAUEAwEBBAUDBgIBBgEEAwICBgEBAAUEAwYCBAEDAQMEBQABBgAFBAEAAAICAgQEBQABAQAEBAYDBQADAAQGAQAFAwQFAQEFAAEGBQQCAAABAwABAQACAwYFAgQCAAAFAAMCAQAGAwMBAQECAQABBQUDAwUBAwMBAAIBAgMAAAQFAwUEAgIGAAMDBQYEAAIGAwIBAQUFAwEDAAUDAQUCBQYBAAAGBAEABQUBAgEBAAEGBgMBBgAFAwAABAMEAgEDAgIFAwMDBQADBgUDAgQAAwQBAwMFAQYCAwQDBQMABgUABQEDBAAEAAYEAQUDAQMAAAMFBgYBBAUDAgAAAwYBAwQGBgABBQAGAAMCBQACBQEGAgYFAAYBAwMDAAYCBQUGBQUFAQYEAwACAQMDBAUFBgUCAAABBAQFAAYFBgEAAQEGBAUCBgEDAQYEBQYCBQMGAQECBgYFAgUBAAIBAQEBAAAFBAQAAgADAgECAwEDAQAAAAYGBAAAAQQBAAUFAQIBAAQGAgADBQIEBQYBAAYGAgIAAwMAAQAEAQEFAwEBAwEBAAAGAgMAAgUFAAIEBQIDAAEFAQIDAgICBgUDAwIAAAYBAwMEBAEDBAEBAgMDAgEAAAEGAwECAwACBQEDAQMFAgIDAQUFAAIBBgQGAwEEAAADBQAABgECBQEFBAYEAwUCAQICAgYAAwQDBAQEBAADAAMEAwMGAgAABgEGAwMAAAUFAwQAAwIEBAEFAQIAAAMDBgUBAgAGBQECAgUCAgMBBQEBAAMFBgIABAEDAwEDAAACAAYAAQABAwICAAAFAQQCAgEDBAQFAAICAQQFAQYCBgYFAgUGAAIFAQMAAAYDBQMAAgAFAQYBAwIEAwMEBAEGBgIAAwMDAwABAgUCBQEFBAYCAgEDAAAAAgMEBQECAgMBBQACAwAABQUEBQMDBAUCAwUBAgAEAAUABgIFBAAGAQMBBQMEAgMGAQMDAwMCAQYGAwMBAwYCAQAAAwQAAQAGBgEFAAUABQMABAQCAwMBBAAABQIBAgEABQYDAQQFAgMCAQECBQUBAQEFBAEEAAIABQQCAwQCBgUABAADAgAFBQABAAUBAgIFAgQCAwMDAQEDBgECAwECAQYAAgUEBQMBAwUBBQMABQADAQYAAAMGAAEDBQYABAEAAAEBBQECAAAFAAYABQADBAAABQMBAQYDAgACBgQAAQIGAwQBAQADAAUCAQYBAgAFAgAGAQMGAQQDAgIEAwUFBQAEAAIEBAICAwMEBQQEAgUCAQEGBAIDAQADAgIEBQEGAgYAAAAAAgMABQEDBgEAAQAGBgEAAwQDAwUDAQQABQICBQMDAgUAAAMCBgAEAQEDBQMDAAIDAQEBBQIDBAACBgAGAAYCBQYGAQYFAQMDAQYDBAAAAwIGBgMDAQQBAQAEAgYBAwEGAwYBBAIDAwIFAwIBBQMBBgEABQUCAQMFAwUFAgEBAgAFAgAGBQIEAAMCBQIFAAADBQEFAwIFBAEBAgMGAQYAAQIEAQEGAAYCAwICAAMFAwICAwYCAAEABQMAAwICAwMDBAUAAAUCAAMDBAUAAgYDBQUDBQMABgMEBAAFBQAAAgEBBAUBAwAABQEFAgMEAwECAQUGAAUAAAMCAwMABAUDAgIFAgAABQQAAQYFAQYAAgICAAYDAgEDAwUBAwUGAAMDBgAGAAAABQUFBgMAAgQFAQADBAEEAQQDBQIFBQQCAwAFAAEGAwYGAQICAAUDBAMFAAUDAwUGBQABAwMEAAUBAQYBAQYAAwYEBAYBAAUDBQMDAAADAQMCAQEBAwAEAwMCBQUDAQEAAgQBAQAABgAFAwYCAwIABAMFAgMAAwEAAQIBAgEAAAADAgQDBgUDBgQABQYFAgMCBgEABAABAQEFBAUAAAYBAgYDAwIFBQADAAUCAwUCAwMABAIFBQIBBQIAAQEBBAMFAgUDBQEAAgEDAQICAAAGBAEBAwQGAwMFBAMDAAMBBQAAAAIEBgEFAwQDAAYDBgIGBQEFAwYEAQICBAMBAQYCAAAFBAUABAQDAQUGAgEBAwAAAAIGBAMFBgUABQIAAQEEBgICBgIEBAECAwUEAgMDAwIAAQUCAAEGBQEBBQUGAQYDAwMAAgIBAQUCAQIDAwADAwEEBQIEBgEGBQECAwAFAwYDBQYGAQIDBQQAAwIDAQEDBgIGAAUDAgMFAgAAAgEDAgIAAAMFAwMGBQAFAAUDAAICBQMABAQCAAUBBQYBAQEABAMAAQUCBAEBAAAEAgAABAMFBgUDAAUCAwAFBgAAAQAAAwMCAwADAwACBgEAAwECBQUGAAMBAwUFAgIBAgAFAgUABgUAAwADAgAFAAMEBQQEAAYCAAMEAwEGAwMBAAUAAgMBBgMFAwABAQIBAAUEAQEEAQUBAQEEBgIEBQMBAgQBAAYBAwYCBQQAAgEABgEDAwABAQAFBgAEBgMABAUEAQQBAwEABQMAAwAFBQIABAMCBgQGAwEDBQAAAAIEBQAFBAMFBQIDBgIFBQUEBAEABAMABAEAAwUAAAMAAQQAAwQCBgUGAQUBBQADBAADBgUCBAUBBgMEBQEBBAIAAwEBAgMBAwAFAAEFAwEGBAEEBgYBBAUDAgEEAQQBAAECAQEGAAIFAwQAAQADBgYBBQYCBAUCAgIDAQYAAgADBAYAAQMDBQEDBAAEAgABAgEBAAUBBgYGAwEFAwQFAQUEAwUFAgMBAAMFBAIFBgIFAQQDBgAGAwAGBQIBBgUBAQQGAwICAAIBAwQFBQQGAgMDAAQGAQIAAgUGAgABAQECAgMGAAADAQMBBQEDAAYDAgQDAwEGBgUDBgMFAwADAwAFAQUDBAUFAwAAAAIDBQICBAQCAAIGBgMFAAAABAICAQMBBAMFAQMABQUAAQYBAAAEAQABAAMCAgADAwEAAgQDAQYFAwUAAAECAQQABQEDAwUAAgYDAAECAAMFBAYABgMCBAMGBgUFAwYAAgEDAwEGAwIDAgQAAQEBAwQFBQQBAQYABgQDAAUGAgEAAAAAAwUFAgEFBAIDAQACAAEGBQECBAICBQEFAQAFAAUBBAUABAAFAwIGBAAABQADBAMFBAAFAAEEAwUABQUBAgYDAgECAAICAwMBAgMBAQUFBQAFAQUBBAEDAAUDBgEAAgYGAAECBgEAAwQAAAQFAQMEBQQDBQEEAQIBBAIGBAQFAwABAgUABAMAAAACAgIFBQMAAQUAAwEAAwIAAgUDAgMDAwYGBgQCAgMABgEFBQEDAQQDAwIEAQAABAQCAAAABQMFAgUDAQYEBgADBQICAwMDAQIBAwMAAQQCBAEAAwQGAgQEAwACAAMDAwEGAwACAwYAAwIGBQMGBgMEBQMDBQUFAAQAAAUABAADAgQGAQEBAQQDBAMDAgQBBQEABQMBAgAEAQUABAQEAwIBAQEEAAAFBAIAAAUEAgUBBgAFAwADAwADBgMAAQICAwAGAwMGAgIEAAMBBAQAAAQAAQUAAAIDAQAFBQAGBAEBAgQDBQMGAgYCAwUDBAIFAgEABAQAAAEAAgIABQQEAwYDBAEDAAEBAwMCAgEFAwMDBAMABQYDAQYEAgYAAgQABQMGBAUDAgADAAABAwQFAAUDBAECAgQDAgMAAwEFBgIGAwYAAgAGBgIEAgYDBAQABQEABQQFAQIDBgMCAAAFAQEGBAMGBQUABQQFAAQCAQUAAgQAAwEGAgMFAAECAAQGBgAGAgACAwIGBAAAAwABAAECAgMFAwADAwEGAwACAgAAAQMAAwQDBQUAAwACAAQCBQIAAgYABAMEAwEGAQIBBgEGAgUBAgMGBgIFAQUBAQABAAYDBQAFAAEDAgECAgMDBAUFBgIFAQEBAgUFAQUCAgAEAAQBAAEDAwIFAgYEAQQBAAIDBQYDAgIAAQMDAAUEAwEBAgUGAwMDBQQDAAUBAAADAwIBAgMDAgACBAAAAwUBAwYDAwEFBAAGAQECAwIBAwECBgMCAQYBAQUCAwMGAQUBAwEFAQIAAAIAAAA=",
           "dtype": "i1"
          },
          "colorscale": [
           [
            0,
            "#30123b"
           ],
           [
            0.07142857142857142,
            "#4145ab"
           ],
           [
            0.14285714285714285,
            "#4675ed"
           ],
           [
            0.21428571428571427,
            "#39a2fc"
           ],
           [
            0.2857142857142857,
            "#1bcfd4"
           ],
           [
            0.35714285714285715,
            "#24eca6"
           ],
           [
            0.42857142857142855,
            "#61fc6c"
           ],
           [
            0.5,
            "#a4fc3b"
           ],
           [
            0.5714285714285714,
            "#d1e834"
           ],
           [
            0.6428571428571429,
            "#f3c63a"
           ],
           [
            0.7142857142857143,
            "#fe9b2d"
           ],
           [
            0.7857142857142857,
            "#f36315"
           ],
           [
            0.8571428571428571,
            "#d93806"
           ],
           [
            0.9285714285714286,
            "#b11901"
           ],
           [
            1,
            "#7a0402"
           ]
          ],
          "opacity": 0.7,
          "size": 5
         },
         "mode": "markers",
         "type": "scatter3d",
         "x": {
          "bdata": "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",
          "dtype": "f4"
         },
         "y": {
          "bdata": "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",
          "dtype": "f4"
         },
         "z": {
          "bdata": "5LsOwRn7BcHUbc1AAfVoQeJTgb8fsi3BjNsUwSTVmkD6nYdAJOWPPmFbOEHWMNy/b0tPwexYr8HAtAZBGF9WwERCuUGfPVbBlQgFwI2olbtPRp6/nCAFwU9B1sDsVmU+R+JwwTF+W7/YG1ZBfTVrQdAiSz88lCJBDWOgQHApcUGb0hJB3DYYQT2o/EAfaOQ//vW2wQOkE0FiOq3A0xWxQMXpG0GdKlZBoBuRvVpgkMFI6APBqifXwMYKD8EHmXtBf6wJQQisRUH3bY/AKN9bu0fHjEAJQ+jACsAAQWCokkBFLlhALmaBQWuY775WpBHB3i3nv1cqhUHcF1pAV6Q7QIzEXsFwRzlBEYAqvi1sTUG9l23B5AkSQSsy/kBJPgPAeh3ZwFfOwr81hs/AemWNQNQE7UAuDF7A6u/6wHW+Q0Hwc7xBYj1VQHghd8D0mBPBrY6gQdI0DkFsM95AM/8CQVdaRcEc38ZAlI3iwNcr+cC6nPzAbMabQe1aGsEg0lxASuIZQe8fF0HnuilATb2UwUSU5MBXy4hB32UnvW3fIMB5KTq8UmJzwS+KRsCFQTZBuKbqQJFiBUD07gzBHvROvnHB88Cxp97Ah6OCwT6LTb8xZ7W/QgbPQD7lXMExWiDB35PLwFEzBcE+AUlBg36dQLm4c0H9YonBKCobwVxaScH0d2JAA6oXwXJ43MAmU1m/RE5wwe/POEGFAedA7cZrP7JLQD4STj5Bnb8jQS8MhL8oGGbB37sCwYLpz8AosFBB5J9MQKV2zcCGyq1BQ3npwMujasHf7oHA3zgSQbk2sEClLpZA8pLmQEhhJr2LqXJBANOxwGHk179JMl7Bd7rqQBzrlMBqKxlB8qQrwM5Mi0F+pVFBkYarwYy7rEEGk3DBaRMgweL5Q77GpYfBm/a8QWto0sC/WJJBP2r3QH+fH0E2GhZBBAawQWduE0Ew2CNAAaMRQdgbwb/7SgJBPUuFwZUX3kCr/5XAoadFwVnECkHei4NBomWfwVR4ib/VvwHB2cmxQEOdYMDUxvhAamDaQKafUsFDVLdBAtcmQVFWFD9eGQHAchY0QSpGvUBJeh7Aom5owDfftEGwq9bA0q0FQezOrr9tarzAvegXwbH6m7+SRDC/2p9GwKcwkUBesKjAU+afwXpbjsFvzp1BuqGYv93e+UDDhuK+2Aepvrmlkr9OpyjB74oEQTDhEMEKpm7BwLGMwbdE/UBqWt8/eg53QXdsd8Hyy5xAoCpUQSoTDEF9jldAU9J4QYbHAMEF2cdAnAkAv3eKHT95jOdAZ1/zPxM78D8ujH7BVvXVv6/bhT/C83BB6WmEwDPZpcF0hWjB/tTiQNtklUDqH/zAMPMPQSZoTkGcH8lA8h/uv8DAz0CPxbfAuY8MQTEuo8AcjVxAEc1WvhzfDEFAD1RB//sYQWTGhcHq8YHAey/xP7d3SEGD4ItAbVqdv/Uupj5GUqW//vRmQI73Q8DSmTLBLLEYvwuZRcGkxtVAKR4iwH3HS8FQcmxBwx8zQXIzS8HM54rBd2gSQeEVusBa9oc+4/cOQXsWZ8H8pRhBNQuDwdWaecB5ZrbANZHiQAutD0Eo+R/ASLWIQLYlfMFFJJRAL6NEwRBqdsFYZnnBTRAvwfL6DkF2wy/BjV/sPh5MTUCdfY1BU/LnvPuCaz6XgCdBt/ktwX9e9MAorKVAsPx0QEoWF78DIkfA2J/ywIvaGEG/AOs/R9MWQaGoT0FsKpzB9wJSwUt+d0AXYuY/UkqOP7GLOcGyKzrAEPO2wDugFkEkyUpBIfwdQer0PsC2mB++c2G5QJXZz0DKMabBbpI0QdugckGyLo7B5/L8wODKhcB2bu5AsvE5O5Q9jcAcxZ9AdydOwXESm8HofixBfiYbQG0GpUCVJu3A37kLQXtff0ChIZXAdYKWQXKliz82IzZB+0ROQRbqmsFcYADBNShnQAsfo0C4E8bACBgrwSooWcFMUZzBPo0ewVka50CMvRVBb8AvQbcO/sCKaHw+B/8swBA54L2engTBdb+IQaWSXcHuvP+/ZdcZwEIG8z8UGhtBTUKpv5HhjT+gvSXBFuuZwACnc0EaL6lBNX1nQW2eJsGAO8zAGKBgQWQb1z/S/iXBaEYLQQhNhEGMy2ZAXYl8QeEBbkGXjyBAIOXLvkqTLr1oLZ+9F9s1v57CDEHmiM3A1/dHQU2PZUFyWw9BQLa3QD+jccElFEY/JRVMQJZLxEC7xXtB2nAYQAetAkEb0BZBDF1SQd4kj8DKoefAF5InwdCtJsFRrsjA1fZhQDDrWMA/sD5BCMYYQZW5ScFVnYJBufS3QFbrQ0HNLqXByp4vwUnBE8BBGiE/hds0QKMxFkHC+2bAbZm2wG0ff0FNgidBzxpvwRMmDkFELwe/dMiCQSPaHMHa/7hBNUZPv8ED8UDhP6pAJrg3QPpNhEFhLIG/HdLjQH/RFcGGhlW/ATQRQcP6PEFJ69jARmmJwI1hYcFOXxFBOFCDQbY+lUBizxZAKag5wJ6+20D2S2DBQZJXwL/rn8GdYf7ATPwdwWC240DfqwNBgl6OPzUmB0H8A+lAqgc1QUlW80CiluZAS4DhwOCOwEG/ao4+cmvZP/3Ab0FCPNVAH3ZiwW9sjcH3fZg+5RiIwSiKG8EfSknB6URdQcd+mcAAZPPAYWJ1wfGyrsGHFGrA7NaKQMc92EAnEXg/+SKdwOpmk0HJ4HTBb9m0PyIaYMGC0mtBEFlYQXhguMDP1ndB7cE0QSb0xL6E617BDU4bQeJWQcGcQUnB8wOEwTzNb8H9g1DBl78swf4xBkGXeItB13GfwbCWjsGI2gg/+0OrvpY5CkE1nv9AWC2GQHs0oMHs37HByOH/wPJgvEAZRxZBOMM9wGj8mcEhYQzBGa0bvpwVp0GRVY+9OQaZQeK9HsEHHb4+U09owFg810ArSCdBLKVLQXLS0kCbfMbA80rZQIBpIcFFYWRB2Oe+QbjaC0F6hNBAtq5lwUt8YsEeKY/B/0EIQZbVKkAKLE9A27A4QTPAk0EZRonBSRKdQA5F3kCIDGVBy+FQQTdNCEEW+J5A9yCjwS65iMD9GBfB/RlyQZyK2j9QHcU+HOThPzbbwj+gSlZBWIPowPyN1UABSRDBlLu1P8kTKkHDq1xB0LdWQf1mgcC3ZFTBokTtQBaGSUFWUw9BOSBHwGwsGUH3hIPBIKniQKOxHcFEqqlAiYs5QU8k+kCH5iG/Xsi7QQE/PEBbhvdANLieQLt9D0FkjwTBZ9rKvm44NME/VKZBo+Qwwetkr8CEYYk/1oZUP9sEXkEtGWJBM62LwX91qT/8c5VBu8JNwB/yLsF0Y2/BAs4SQb3B0MALg39BTZjWwChYvD+GkJBAxGQdQZUXpMDLEsdBVkkaQH/AykA4asJAYD/pQHJc3kBJ0K5AL01rQGQXcEFl8RtAv55awcSi5bzqQFg/iiQBQUWonsCE5JbBTVu2wP18nEEEe5rBZ9EhQZAXXEHABJO/L/xuweutjr9ccLo/wRGbwThteEF5tpzB0uDewOBad8B8YaDBeRjcv8jBcUBt/U1BCJ3MQCKT6L/eP5q/Rxx8Qf9L0UAITce/9hfewLd+BsGkrx7BbBEawQDkqL8cd0VBT7FLQX0YekB6pKPBhBz4QOlzXcHHrfVAv2EVwXWGCUF6Q5u/j9wcQOL4mcBS2RNBxeuvwLgsgcBLCHnAPb5CwZuXvUDlC57BY4EAQV2b7kCKsoFB49iRQYH6cEEl+XPBKTA9QZ1gM8FYcCFBie1GwVEEjcFEMci9651CQZHSOkE4whFBVohuQbaBbsFlXaHBpAfSQPEXG0H0V8BAtdTOQBfcF0DdtWxBfkEZQRCTQ0Gf7oVAkKS2QWF7FUGLbgBBaRUTQXhQWEAWg6TBfrFywPe4lsH+5TrB+uMSwRm1rEAaswnBd1UBQXmyc0BLjhg/TlmtwS80cMEFV5nAf0cdPh/A9UAF04lBikhDvy2j8MD30/hAQOrhQCqYjMHEi368ECIBwTEMQ0GcZMJABzdpQPIFwT92DmrBhR0oPlS8rUEv8BxBcx2dwYeuGsFqWcRARY44PnSHg8FJIT/A6UZIwVvc5EBu+YRBxSaHQcj+g8BLTxHBlVIcP5UixUBqOHjBYkDAQPvKv0GUoQDBWAOTwJlnWEHv84JB8W00wFvzp8EoGwzAPMN0wBLzL8EL4GRBAVi0QfKPhMHaJ0jBEqLpP5+AncHhKc29DVhZQb/6mkAsPVRBu5VzwQgUT8EqpV9Beq9hwe/zNcEw6ZXAFCdXwRnSQEGXL1rBDEpfwXn+0EByF5TBRyLuP4SVRcGPDwjBK+q3wD+H5b9z6Z7B6BS0wFcbC0FXkXo/c/d7QUxTc0EGaC/BFkSDv7BRA0FIEh5BkDyTwYu4VUFZGwjAE6uXwbGN5L/5LcFApS4vwSboEkFX3MU/CyntvbxAf8F8iAzBlzSpwVARosGZkUy/JIl7QW6TUEF+0DZBoVgMQTERlcHpgqpBpnWdQP1LZMFaVJLB/1AVwLYuHUEMM4XBR+TGQKh0qkHmaRvBYTMfwcdEkMBGrQdB6YvTwPaIrcGS6ILBd0iDQdohtEFaoIpA60Uewe197D/WewJB0kuBQXGqKME+1FdA23pdQXsUpb4UrDDAQKcMQbHNYD9bWB3A+YKTQacJ0b88P/jAMC/dQHPnB0EEogLA5LfVP3QTxL8JK6dAEUAVwImXIkGYjvBAqZyqwVtyQ0FO6OdAkElvwWYSScGXn7M9wd0PwaZEosFQP/6+jQ+4QSOEgkG3oFw+A2KBwY84EMAwWoXBwCGBwTdn9r6HgFm9ZzWvv4zNbUFDapRByAGqwWCcq78A+JvBpdthQU7cM0GBvLPAyE0nwZ0llkHOFB1BOjygwXRkZMHQO4vA1RB8QCk5AcGxUb6/UIm4QIhLv8DNumrB88SnQXGhN0FnMQTB/T/fQMjkTcEtQbq/2QxCQAZu7MABMgjBbf8+weaXEEDyfY7BQ9tAwKFDXMHO3dhA5qj9wE2SKMAaxK3Bfa/gwDPUjsFZ8dzA4PkaQKgamsE6uHhBcc61wJMmCkGVBjlAkqkZQdJML0FOZVfBeXafQPoXej95H5hAa0hXwevHCr+POVjBCrATwWPNlMErplTAV/7HwKPz9L+WtQLBVyAIwWj0WL54jxy/tSOXQSwOFkFNGY9BzSsXQR6iub+bS1BAZ3vuQBmpe8F8guDA9EOuwU2YOcAMxHLBxBgnwekprEFYrWZA3I8KQcnrUsHtp16/sx5LwenT3D9QfAjBEN3wPUx8RcE2rndAk5ejwa6NfEG0rr7AmbKHP0jdGkGh2AhBDJDcwLWVC0Foa7VAbRM2QOe72b4wY71BuXVBwe5WtUFZXsfAi2aAQfRbl0CZ0eBAINSDvhqk0kCAHBZBAwqgQGvdkcDKalXAjKTivoIaN0FR24A/CONAQdgFlUEJw1jAolBfQKcbdcFt4t7A9GgTQFyRr76d2BlBjRKXv+YtJr/0HMLAjA/VQBX2lMFrpLtB3ZMSQTdBjkGVh4/B2HUAwclclj9vaiJBRrR4wN0GcEH9jeLAOiaBQYmNoMEUh0NBmfrpQHiPiMEgGl3ADfBaQPe6EsHtNeW/PaCjwcXgasHvCvRAw26YQO4IicH0qY9Akd/GQHfmcEBlgY5BEk3ewCwnhUHybIHAzpBlwS25eUHrVI5B4+ALQMH4mL+Zh6bBOloBv/T/iMB2/J3BwB1SwU3CkEARPqDBK3q9wMfDGsHEhaVBN4qqwLOWdMDQF09B6Pn6wB/2BcAiJQtBR74nQQ5ND8FnjCLBK3j8QJGN88Aj2YrB9jmWv9RKicBup11BXoSTwfuzT8AWfTnBZ/UUQWdszEAst0hAS1ybwWaMakB14qg+T9SOQBfMmsBB2QhB3OV2wXywxUCAys69ZHGuwctg0z1Dl2LBxzJRQfbWBEGhFgZA/sgcQXXiMcDgPI5BzY88QefNrUAYSKA/B4Oyv2EsAz+xI3bB/PLUP8i42b/WvzbA8+CbwNjuh8FQ1wzBpMsIwUhbDsBqroDBDBpZwYTLrb8emEvBsIhqwWi9Z8En1eJA+cAJQcfer0G/brVBe1KQQcuypcFSYpDAT3BsQKVyb8GswXxBEnqGwK6bfD81bii/CVSgPz8uiL7DY8E/QZDNwKUcZUArZ6nAtTWGwCwnAUFBSpY+vu02QQy2WkFCEaVAS4IIvqpMmkHjbRxBZSAzQRwW5D928N9AyozzwJ1FgUEbtdvAQv1dwcWFkEA1yVzB7nfAwM72OkB8XIzB8FX3P79kXEC6GUXBTWiHwYiipUG0CajAk0SewID9lMBNPH3AOEviQLeroUG7CwlAtP6fwA8gI0EJZ2bBgCPtQEk6YMHgw4TB+LToQJhQjMBA1LhBBg5GQYl/rsCtZsa+JLUNQdw2XkGz/T5A9Ld4wV6Rr8AbxonBkkOvv7nUmsF47sHAoptyQU5Ni8FLn4dAWaH8P7hQAkEu0MPAeXt4PiZyY0E7cPo+3yFHv50tfcDm5RRBggfDQfEUfEEpYDhBTseDPmWU1EA1ZA1BCAcpQEyuHEEEYUhBiR3SQGPF3cCHKSBB+7oKQIgSAEGwe3S/bGF0QMOaAEF6B4w+b8cZQeQSkUBwsIFBQcxcQThbEUBfRm/BGmcHwVnh8kBQmGFB1SMMwSQgMMFSuq8/cIo4vnii8sCHPBZBoVc0P/I7MT/GdVHAdX1lwPrOkUC+DtFAJGmSwZmIrcHV+ufA1mWgQKoLAkE/1udA7bAzwfm8ZEHUFpVAEE3BQYG59sCyLgDApxobQFBQIkH7hkDAsiR8wZwSskBPG05AWCXJQJlNVcFH+dC/6BKawZITDkF1Bc8/T3hHwS5HlcFtpVBBZY9wwWI410BWsdxAfoG/QZRMsEG2XtVAzoxyQaYMO8BA4Pi/o1UQvzlS8UBNPYLA+ByBv00E8cDlz05AGvj1PtmWaMAzT7g9v2GEwf2Z88C88LjB2Hk0wdAIsMCqxNY/zV9jvwWHrj5DrONAbzHWv5/hN0HqLshA2+9KwQlX+UAx0EPApOzUQI0vi8GNCQtBJa98QX92WcCJ6og/pLRQQWHrjsHB9zLBvsmCwVh2QUF1tWJBbcriwJWAHD93K4lBfoZGP4MT4EAsQBzBZ4WxQWFMjUBMt2/BWIW1wHPcXkEV3NbATt5NQbm0LsHZI+s/5k8JQRixYEE6ni1BC2QPQWBRjb4YNF3BKlhpweF6kEHFyalAy4fswD8pf8HCSTlAOTJjwUNl6UBVskfBQ2sNQTmOXMBmrRFBtNf3wGQt/8AdaD1Bs4opQKpLBcFauNS/lteTwSlRYEHQZlpAQT10QUWTjcEtxqhAINtwQPbUCkE+WI4/0SCdQJs/DkASVqXBbhcmwEKf17+HS0W/aCWtwapPMMCSpZ9BkNBAvmC/6EAVLzJBzmaFQZcpPcDL9Ow/lwWFv+I0K8EqbTs+QhaEQIZcRMBLTJPBaERZQZ38hcAMtYdB/vacwSjUbMEyKsbADENAQDowDMFC6kDB5fwywSNlTcAvjVPBAgAtQWi2SsH2nLJAipxNP7I7gcCl3BlBh6SmvxtHsMCiTItAvcy4vyr9nMHb2EM/a8zuPu7QmkFsRm0/IiorQMEqSL+RVGtBuHwKQcs/XUG4P1nBMBKIQFJOBUCRWKVAJjfavRzKtkHf7jM/ADEqQOf1jcExbv/AlOYbQJnf28Dxh+s/GBLBwMVMj0A+T/hAHd3KQJax5UCoXOfAWr3DQB26UUEsIRXB1Z68QP9+lkHqfqPAVgaRQazQicGV/7u/O4nzQC3zzT/jIJ5A2a4ewSQnGz/FyhlBGnPEv085XEHxE4C/9zZhQIvlMz/Axe9AQ58LQBku/sCXNVLBXWYmwcvpEkG9jBjAE29awbtj/8B6XiNBW/vjvnQIl8FU4F9BOr6kwDJpiMHq3ylAhhoRQcjUDUCLF8rAhWkmwLMQhT6UQ6xA/vVWvliF9EBOCjpBKeAZQMRjsUHnC4RBTDKVwTHP5cBRwmlAlIRPQL7sE0H+uYLBs8P4wBCKE0HfxkPBOJh+wb7u4MABPJBBintJwRN6DUF9hvo/A0Tov4eQV8FP3o5B4JlIwWuLsr8DnUk/V8cSwJvZXEBdh0lBtQaxQftWcEBjPBrB3Il8QeEfy0Axd+zA0Ne4PqWHJsEoRznBFQRbwcwmJ8H/uyrB1wieQUUbasHkovFA8WuIwcLZc8Ge/r1Boh+XwaRCCMHrw+VAQEdjvdBiaUG3uq5AvOWdQSfgHL9mEapA0RxBwXR4TkFOknlBGOwZwTameMDkrS/BY0yMwDKlMUAYX7fBOW75wFhxib5Ij6XBvJ3VQBX/T0DEGn7BmyLcvyap7r/E3BVBiUywQbVw6j8Da1FBBIOQQJbJCMEGKqvBeqllQLkavL5pGZfBbi0YwUPRo0HzV6i/XrkavdVLeMHNQdJAkCcZQGgcF0FHlfdAp/02QbVDM8AQkfbAzBmSwAUd5z9d+0FBxYU1QV32MEFiGjPBUdI8QNir0cBHSeU/oQBcQYPsYUBEguLAS/62wNYACkFGsgpBZyKmQLPXSr2PvETBuBlOwY4qC0GFHC9Atj1EQTTi/b2wuznBKsMhQZAZDkENK3I/8G2xwDXKpUCfg53BUTKBwdZBI8H+Kl9BN4+NwL96b0G/WUdBu8FtwT/I97/zzl/BQW1JwXSjl8EyhthAd1ZCQfRUm8FnvYVBm2+9QfSfKkC43orBeUIuQNuav8CNGjxBEVwJwGfI1cA2aNBAuKZrQZrKt8D6hTbBtgDRv0F7MUFpVYtBfTZ+v/CEvD/aonFB05wcQY1T2MAy6iLA0njev1A77EBUn47BEpyCQXcoqUHIwZE/Xv0vQcRZCD+sEWo/KbsmwV4Zn0D3WwpBOeA0QXwsV0GUqLXARjhrwawK1kBR22ZBiB4mQf5LacEuU78/CtyswRDLL8DEASLBsC3EQMd1Y8HqvLLAu9IGQX/+Q0EvRo/BHJjqQF/3YsB44i/BcDilQQCGzkAD0KtAb6P3QMhyG8E2a5FArqpbQMDNS0G3T6dBLtMcQeuMsEBWO5zBmKCLwMowIcELAhtBEb6YwFtKuMDWq53BH6ALQSq1CMFdVm4/VlgNv6HFUcGT//5AAUKDwa1K48DXc+O/RHlvvgYIkcHVdKZB5SHBwBHI1EC/ERBBkxacwbwmur9A/ivBIOsWwfb2lj3VlI/B/VAWQT79TUEtsInA1ie+wCpGH0HBM6lB7lt5wLtiJEFTLxHBaVS/QXAOskGKFWk9zvCSQOL7GEGwHfTA5y3HvqByuL+oIxVB9XhRQSRVYEEKhuDAly9swOZ6nsFnU+rAAReswJ4VTcAFvJ3BvP6AvTliJMHfOQdAVrKGwTJMXcFIVfJAvpO1vnDFnkBRyu++jkTJwPjP8UC0qZZB2pMRQfN69EB9Fq9A909qu9sYWMHKEMTAM7wLQUdqpz/AaI5AlqUhwfTFXEE/lNTA/hokQZXqnMEW4pw/BcZXQS6XuUC29TjAqRRdv3BhY8EGyVZBwmgEQTLujMEb94a/QkVqwakYSkGXBK8+1MqfwOTg30ClSKbAGJOhQbxPIkF0YJ7AQZYIQeoAqEAhJBVAhQtkwckxFz6ucbxAEh6bwQd+5MAd2R/BkN6mQH/EBUElXPjAP8+uQdPGVsGShoDAUcS8Qcq73kCKVZHABIq7wBWQhkG0VfNApJ4HP1qvG0DTkQhBDWpqQJ7MXL5ZuUs7U5SPQKXfi0Hf3m5BjDgNwWFmbEEDm+NAtlUNwSwmjD6dsg5BSbSewMhRAkEnTyvA03MUwDiYOL/tfAfBO7AawOp5T8GXKH5BXTT0QGDQIUCRni+/vJOmPwOns0FH8IK/99pqQcHQ6r9xciNBW7a8wMYjSsFl+OVA5AiZwWx+E0FY4eTA7pyWQVMorcHDg2BAU1qqwIoj5cDCdNbAlWoxv3+u9kBkzXNByop9QWy4UcH+JQFB3w28vwuVPUCwCABBH81xwTqxlUCXSxFBqi0BwFzV9kDViPPALW0UQfx090CJhgzByuzNP0EkNkFLByJA/ov8QE3wqMEFP2ZBuCsVwSRAZb9jC+e/qrOLv4j+Jr0yLu1AyJRiwWAWdEG80G/B0lAAwQRNe0HUYUVBmc44wFdDWkGYiBhATiUGwasEr0DC1ZXBIcCEwWef4T6jeZLAgfAMQQsWPUFVljxBxPOBwSmUR8A/kuhAT4acwQBqDb85v6dBH91MQUJbEEHUIIZBXfUPwZK8gkHIzlHBOvcZQD/B9EBUX/pA0FalQMfY5D8ywPu+Ak88QYOCk8BoeQ/BxTm+QCxFD0C0vD5B5E/nQD8Y+ED1S++/wQqrQYScYMCkXvxAcphnvs29UEG2wBXBaJp0wddeakG/pQZB4jeDwVr2ksAgf4o/NUzxQOhdtUFlmMxAjXmhweAWXcG+o1xBrR8hwbEKj8G3VUDBjdsaQDktRkG9ggvBgPXCwIqmOkBhWGTAL3PjQD7xxkBwk15Bko4dQFkPCsGS4y5A8pptwaO7IcHtG/ZA9IVSwUOrIkHMUV9BDVrMQFphKMC3PzVB3JrvwH9kB0Cg6BNAEtOCwIajDkD1ZMDAXuQVwIylaUF5bcxA21vHQG/HpsChBKnB4ColQOHQSsGQG2lAFk0iQaBzdr0QGOpAwmwQwcmwF8Ew5j3AzWeGwX/PG0F5Gx/Bu+bRwK8ypcCxtnPAVkOrwCx048CA6aZBTGgjwL6kr0CEsgi/edU5QdGjd8GslAJBNW9ZwH/eiMHi1xtBPrRfQDRXqEFOAilBx3ytweTfycC4l8pAGBrXwAxHFMHawsO/7YJ+QctUP8E2kVxBcAuMwI6to8HjzNO+iuSUv1cxFUBA/nFBq0C7QIsDscF8Fu9AiReQwZLEur6SWUTArG+zQIuOPcH84hFBz0kkQeafgL9dTn5BILq+Qe1pF8GGqItBG2PwwCwhXUGAthPBrStYQUADDMFeXulA9WufwVolEEFuea7AiUGNQRcoVMHdzq3BhiLEv3mRr8FZ6LZADbsPQQzSUsBzXPhA+2A1wWmdsD4tfgq/vf/0wDuGDcEWcGZBy7ZzwRWiiEGtxbNAHYGtQVndhsE52cm/fk1xQGsq9cBwlBdBci/xvwnErkEdtm+/x/Icv6CwbsGFAytBB9xBQZ5qckHlHpnArcENwBSfeUGQ0kNBrrvdQD5M5UAKXMNAaiomwYkkr79Y3GDBvbe4QN9YZUCs0P6/17mVwVzRGMAuL1hBoAdxQRXndEHZ5LjAR6PoQHUQO8CxgJ/Bcf0LwUTnEEHF3rRBnxx0Qa5rQcHKn+TAmnnNwE7h5r6oUZTB0jSoQYQppkDGCADBpgHNwBYlOkGcICk/7KIQQaONecFBxYXAY2WDwSeBfEFIX6g/XWuCwLuWMkEP12hAMTtkv4RTisCUq1vAwGtwvhhRlcEviwA/xMTRwJIwOcG1DOjAL6ltQSZsTEGaZwTBKcK8wK58lcEJb5jBgbunv0Zj/cBFSIW/6BKQv3AqEkEZuNTA9jubwBq6ksHUJDRBtA26v3TfisCvUWbBIleLwGkwyUAEWsy/CUzYwJic78B4WZzAkK2wv7uE3z4740JBHPsNQbEcoEEyradAoA5MQaEaFMEnwYZB6hO2P+/HREBtlAZBZOr8P5nNzcALoa3A7xyKQawCxj4hR+7Agn0QQbCeB0EHsGtBz0fCQP4N9MC2MAlBYzYUQdZ8jr8QIbZBziJSQauKeUGOF13BQ6CFwdYBE0Ftpo7B4ssIQXkdM8Ff2DbAO0N9v8mubcGGz+k/G1nOQLfyCMEq/wrAcLykweg/JUG1qldB0q43wBhfjUGwcXjBwPmdwZSVlcB+Yh9BmNKcwZ1eRsHeQnlBPzFhQEEcWUFKv7dBkbDwwFSkqMHEfvvAnRezQLSyQcH0fMjAcwUhQYEunUCGK47BXRcVwKCsjcF3Ry/BlUANQMz+mMG/FPLAhgQwwRbSBMH6YFpAochvQdkJEcELmJy+cQU8QYitEcFUx/JAY7/uQKu+bcGEmYVBv+N4wfLxUMHBtwvAAd/WQMJ3H8E53Y5BNLt9wRqWKb+I/znBY+wfQaAjmr8y4zTAHh1vQYife0Eiek9Bek8iwSy9mcGJHaC+W2fGvp4sYMEJajVB6A+iwLPpCUHFMj9BsLZQQQQMZ0GfN3hBNnuGwNdZFUHHyedAYuCRwbVAkcGItifBnhe5wJLPOD/kqB1BcAuUwdrtjsHvLo9BSoQfwdSizkA+K3LBtR6twW+dncHUKYXBZQbwwFHbSkGgdC6+i4CSweh0IMFHOsc/mEhlwYlMnMEiNFrAnwfBPxh2B8EwrKBA76VEQQdOdkB+12rA+dvBv8XBpcGs2LxAcT78vfREjsFuOQBB81LjQLyWH0FWQ5nBcDMxP7SJykDY+qrB0mh3QRsxpT+1rnNBOl+MwZFfLsFivkJBrBCPvtjiA8HUI6zAJIvAQELR+8D3WBNBOqnlQGCSJsCle7M/8iWJv3Ix8b/7dBZBg2RcwedafcGQzuK/upVlv2Oezj99NZ/BPADLwISTXMG0IY7BpmzGwDEO678Xa6rBemwdwf2pSUHAXIG/1RLQQCxMDkFG6AdBj8aGP5jvHUB/6YHACc5NP/czn8F8aopBOwIFQaxfxUCo+Ci/Qhc4QbaWNMCrPdLA2N2Mwb1jSMBcB/K/QeE9weIeQEBiE4zBKZMxwCAXs0EvW3fBFS0hwZhVP7/VCIFAP+aewYy7Ab/r3ci/LKfLQBkkUMGGZAtB3gwfQW12VEDDeQTAR5GVwRE+ksERhYrBOOrVwDA1gEGJeVDBC9DVwB3ib0HKHGdB7r2hwSUTO0D82+nA8XLbQJW2DsB9VwzBoAR2wahJCMGvjWxBeriZQA1J1cD4UBNBegcbQVVSE0H7UOU/FHdswYohiEGurdnAcguDwKyJAT+TTzPBKgD1wCjPgsDjgcNAZhtAQVwl3UAJ6wS/xq/LPwRtN0GclORA7gVlQNwELkEr8ypBlpn9QMb6t0FCjxTBaFZAwFdhdMAdWgjBHXz0wDJ5WL5HuG3B64+VQJaPib/2bJVAw+F5QZG6E8HzmoW/JcYEQbqJ4MAI0AJBKIkNQLsh5L9smzlBSur+v8CjQUDdN9LAtMUyQY+UgUGR4uxAIpsswZRkskCzO3XAXFrdP3wkar9Ac9Y/SB5vQNa5ScGhicrAo373QGlrkcEPW8rAfe0HQctxqsGqetC/mGQGwZMxEcDi8dvArDAwQVXqCsBJ0UJBdGDvv6ylZMEOTCZB0FTQQIFmEkEwmc3AnbjGQCWKHr3KjgM/2uqpQLvF9MCu2ALBKH7nwO+6/MCqdFO/iy4mQAVaQ7/u2Dk/uWDbPl1BPcAESLlAdDIYwRqLlL+qOGtAtYiBQdnPh0HkwWvBjvT0wK1HkMGrVfvAaXc+wIgeekFBhY3AqGb2QJEitkDN6XXBfaJowc+be0FsGW5B0MMLQFETf0DMyU7B4kETQc4W7UBB3hq8dravvzyPW8G25FhBUnRLwNXdez+kYZzBhbqSwftT1EAa46xAcwpewaqbpcAwXYDAqBh3v/J+LEEAZHrBqCRXQRigCUGjPeVAbTOZwI5iNEFffh7BamqAP+Yu3z81+XVAbwKIQUvCYcF3tgjBnDNWwW5LEUHckQI/EWXWv55lHEBs1tjAZ6wLwBqW8MBD9RNBjv/KQHm31cBRirFAtUPfQDdaDMFOUt3ABpRiwebvdMEYL5bBh2EYwJgQA8EImHpBtyYkwda4GUBAZkZA2s3swPQKvD5IggBB96AAwQemCb+JiPRALh3Sv540+cCGnxK+M+EgwN4dCsHOUIRBPkShwXEk0cD6gvG9lgu+wDVViEB6y29BPBvkwMJ4gcFlsq5ApEbjwF74EMHc6VVB1Hjyv8b5L0Hgl5vBdmhQwX55c79UnNM/307vvnBieEEo1FHBIipFwWMAK8HQe6dBAmpmQcKg3z9OmQfBKjrGv38ig8EBphJBeVSxwY+4I8HI5/jAdKMWQG8NBkHi5QHBagKdQLmR6UCawolB6YSDQbPth8C/9TbAGN80wPn2RkC4YWvBaNIiwf3s8ECcYQJBupX2QHihGMEKCx1BkFAIQEpnq8Cj/cNAlm1XQY4i7sA3bA9BzhiLwBnqdMFSLiFBqhthQFefFMBaS5u+iER+wX6sUMHWBjDBhqdwwWcX1MDHAmVA83xqQSH9/MAx22w/1EeDOybTzj7j9xXAZWp+Qevut8DN8aQ+kTVSwKg5bT0bd1DBDnBAQfAtGUF0fQjAdKn1QNwHq0E+1rHADYQxwKz9MkGUuwBBzG2/P7FSTEH7jWfBp2KswLEOHsFagoQ+L8QawW49eUH43nLBeRyXwBfA20A32bdAHUplQJlgmcGCeUjBaoemwUKCDMHdkwO+5huQQFqqqD7tFOG/2EKxQDIJukF4LeZAKze7v+bimUArugFBTD3dQKoeg0HYutrAdJnywD4j9kBCISHB/SWPQULw48AxuRzAnnSEQbdSSMABD0bAE8EIQcTrhsHrpqDBWRwFQUy9P78s3/tAdnVbwRMCfMG0G4XA8exFwebzY8HUEGY/13edQCKT7D9hVY3B0LFTQWC+hECf5H7Bt0UPQdfDmT/obnjAb4UOQYeFFUHZ7LdBZfQ6wPJCYcEA0ZDBZdPBv20HzT9q2KJBCS3MwD/3+kCI9BTBK4djQQfWjsCvsCdBpvBEwUv9REH2biBBw3zrQF/rkkBT8AxBLbiiwdjuYsEc7z/BpTg4QRBHHEFnkSpBLL6fQYmI3MARJzhBfXCPPUrvt78YinlA2jlqwcnpz8CAvGXBeBs9QdQINUEi2+BAOyVUQNo00r0Hl80/kxi8v/0WZEFskH/BjeATQFfJDMGcjx2/shvzvh7Wk8HWBppBJFi8QO6PDcGX9a3BP0LbwJy2UUEnlRrB1vTLwMAnasGT9hRBOXrbQBwfhj8HWBZB1S1/QSTjhEB7JYLAGO0RwEjRsMFzAxZB0D1AwM9G6cCHgOLAgaz1QGp9M76X2EvBI0SBwFgcxkAgCKPB0iUFQW3EMkGHrwDBqJ0FQYJ5DkFQOQPArV91QSeqw7/As81AE5V2QcRWykBMnzfBVIEPQW9HQcGyyoRBEowOQfGeC0E7YF/BlU1zwesdAUG1eso/ZUmMwd71qMHA4xdBVP5zQWVWCcGEQITBRQX1wKSTDsEHvYvBhWKrwcWjLEEt7Y/ANWatPxJ6bMCN1I5ADj6OwRF/BMEk5w9BQddLwVUl8sA9Q5/BLoAFQSkngcH7ZspADQN2QH3VzUAfBhLBcdFhQdLcK8EtxRDBaBO9QZcMA8F6OnhBFv97QDCypMEtDs5AjyYQwWlpKEFC3nbBSMH1wKS8s0BRniM+Dv4PQY944sDNPFZByJ2EwJUQC8Hm9oVBE/b0QNnOOkFdiupAM7gFQYj2kcF4Js6/MgjyPlidLL+N8gdBxOABQadvb8Ehx+C+d8ttwE37yUBN/SY/FcfywA4cLMB+jyHBRtLkQJrGTUAq4YO/QaqaQDkI+kCRXwRBn7OXQdRujME00bE/Ta1JwZcoBkFg7BbB0+VlQFuaij82NZtAGfbgQIRfFkGGag0+2lywQAvhGUB63IhAXh5aQJiYWUG2cwDADP4cwbqoK0Hi747AV9cfv6UtTz60jejAb/sUwEBdAcGc4ay+ahwHQRXKlb/VxabAfeQbQWLrIcGuJBvA+rvqQAz5TMHmpAXByOV7wRQG3EAzsd5ARto9wYhFG0GDBG3BSuscQcIWS74Z2AfAi4KFwAp6uEEUN2VAmAikQS0G5kCMFlbB6/sgwVAnbcFW61HBEisKQf+8bEGx8ntBYZ4NwF9fI0FaYg1BhrTwvibhAb/ZfuLA1RSQQdkUA0BPYldAhFxnQQ5G3ED4oNRAUSzlQP6/H0HP6K3BRUSLwQRRpEAgs7ZA+csAQXDLisFy3/LAwRb8wH2aLMDNzDHBQx9sP2IynUCtV73Azm+hwUm2VUCqmzTB8a0Fwdw7vMBpBibAgX1eQacM0kDyHapBH+0Nwb5onsGssyW+UDXaP+gMGcH6eJPBEC+iwf6SH8G/vKpAURRHQZHVm8FrMJTBLt8vwXJFH8B8XQRB4owJQR0Zl0C0ZJ1AHawFQZj6n8ColuZAdd2JQcs/rcGKdpfBKbELQV93rUAiymfB8fbTP+IhscBw3a5BS0wOwXasMUD8hPi/BT2tv3FA5UCwdkvAqRy5PrnMCcDwwIXAsHICQc4yecFGYB/ADAgsQBTtjsF7PITBKa80v5fJ4UBJCpnAQKXbQGEzakCR2T5BJT6jQcxY8j57NWnBEMpKQYFngcBlOMDA8rTdP0hyzb9j/IvATzl+QeiQp8A5u4U+8d0YQZb49sDS/GpB3Yr0QG04lEGCgWdBOTXfQOlzYMFBz/XAwrrjPwp0hcF8poZBXqHNQIkB6sAgZJLBynGTQUwNEMBTywTB5KWgwXNSr0AQ1p8/YlxDQYm4L0ACjpNBBbeMwRqHlcF1KqpAShhCQUivLb/8RvZAIWrNQHFqej8PrVhBa5KpvTMnPMGXRsLAFe3HwGiSQkHKIRLB/uP3wNWb9MCUHITB+5klwca7ykB5BpY/yiFfwR+qxEG09rA/oE+IwTbnQsGObLbAi6j6QN7w9MB8JLLA3DCPwTJqKsE2GFNBMYWtP+doUL5ZsNRACsowweDiPMAboslAMWiYweCOnsGGP4HBZq8TQSC8vsAdL4zBug2VwOUSJr9HG7pAoacFQVBafUGRpBbA8im8PyGFD0HNO6fBHEoNwcbRlkHvI0BATjNRwT2KiEH6ZxJB6vtLv6CgL0FFMFzBHbycQNseAMACh4rArH99QSzSHkGt7QlB7dWAQVW9Q0FW5lnB0FRwwa/noT/EEXZAKXPAv+oVq8GfB4lBMCdlQQYwgsGp5Ya+kQFqQKwynsFgRFlBS51GwKtWbEAcBaTA0gaoQbqBosHzrm7BhtQRQb/T3sA8Af1AfP/5QLQ6fEGEdR/BWxokwfLGMcGY1Z9AoqMZQZhelUGSqwnA0FR8wT06xUBf9arBuvCHwZYAAUGTkwlAyTjaQGgifkABisjAPhaMQA1cSEH2DaDAkIDXQGDrB0Ax6vZAvsTNwPCTjcHmUB7Bj9VbQSJSnD8+dV7BdCF2v/hh28Dfk1FB0Z5AwdZXisDidnDBJ7DFwNNyA0DMrbzAGVG4wDn0Vz/vBXNBo9RjQKBUzcDhP4dBju/jQH+lN0Ei2frA6BSbv+edjUHYYyfBdgnvwHJSHj7hXIlAOdtHvxNCo8ExThPBeYctwcPlZcGeyizBeQo8QAWWQEEbAjhBAaIXv+pqC0AtjzvBcbxBP+Yg38Ak0JZBpHENwcBjIUEHdx3BMXYrwI+4FMAk99LAkwjLQA09jEBj7ZZAltoOQYnZNL/c9kxAX3N8Pr5eT79FddNAet6gQXaibMEWWYpBkWXywIzoM8E6jYLBEQ7lvywCmMAmOzzB85hIwKm32D5tIEe/buAUwfm3PEE3pfpA4AmSwEbckEGWouRAJhJ9wXEvLUFNj8NA6RaJQX82OkFTikS/2bSYQdzY50AAR1jBJk6gQCyWXb/UR1rA4RCUwc6+9r/bQJ7BsMqZwFRH6T5FAgrBN0CoQfjw4sAA743BDewjwSG9fsAkC60/MqImwJ71jz6/0SXBap0AQdN5NEHNIczAx4wlQZU0AMBNaAZBObacwV4/SMEpSa3AkNthwd/w8EBdD/rAy6+sQWqHA8A+RtbARQQJvokVXcF/WAJAPEjiQDeiKr8CYgJBs59hQaIXaL8RpLC9hOvPQOoam8HHkShBY160wLc+PkHxttbAmjipwX0yYr4Q9YHB7xF1v510bcGVrNpAt9zcPxoiRsFkPFhAuCKbwBmnXD/hrPvAcCf1P8rCqkH2vVRB0g8EQSzG40DXSNhAzvELQcUoTMCbzoHB8secwbRT48A040LBXcmSvghXgsAJK/W/ZeCdwcwDhMHlK6fAnaTjP5GPI75Jp3BBCBNPwYEO8UDG2dNA9DJcwTTZa0B9EdLAbPZkQUc3sMGqEQZBl9EavfmZqEBdacfA7QGRwQYnk8DuMuBA51YEQHWtg8Ee9bDB5OxAwWfIiz+ouBFBcyvVwAQAG0EIx/k9f59ywdj4AD9k+bxB5qc7P6YQVL/sYedARTxwQeLJ48BVMM1AdPBTQU2LDsE8KRVBu/6jwcp6wL8ICVA/ODQQQR/ckEHt7N0/MSMRQf0740CGx4XB8/2SPnqdm0DH+VlBrL5sQW9/aUAw2bC/YUzMP1Tn+b4LhJ7B41kowb0VCEF0wwfB+vz0PcEVGEEhTlRBBkv6QKk6ZEEIrrFAdCZgQIRnLkHnmyY++dMfwWWDRMCcEIVAWyCgwTkvn8F7bjFAITo7wc8r3sCGW+lAADxvwBoXgL+qXf7A1EW3QdNORMBB+f2/70/kQJNtvUETFR9BvwTAwECI1UCxHotBkybQvj6kI8H3noNAFmhqQUrOdMFzjnTBgDMJwS96Q8GsbR3AUV5FwL+WrEF4nM1AT6uqQYleMEHRDsRAFNqdQExNY8Hor8q/JHIOwajR+8CcpGTAgUFOQSuJX0F/+hlBAiNbQOiZK8BDnUE/HO3Svwvu5kAVKfs/ZwWuP3Nhz0DaWqDBMSNDwQSJkr9f3+w8C3aswWdLSsE2IolBoujkwKrZGEFn11LBJB3swEbtVMDzyRVBl/mVwVOsTkAwL4G/tJ7xwPkhqEFWKKbB9sqXQHp/e8FEgILBm/D5wBaa0EA/HJTBWqwjwe/V27+slFu96y9LwPA3XUHDEjXB2o+VQRN4+cC5SOBAbvEnQN9nbb9cUc/AInQWv61s+UDDC+LAFFTnvytwDUGxd3HAfs7EvhYXMEA+ULNAtwiEwJhcNEFH+dTAvLTDQN37wECApRRBYOaDQXZy2T8WzxPBljMkQMU8or+zRARBvcZKwZtAocHMYoXAjytUQd+jcL8ayoW+ExvzQD4ucEEzfZvB9aLlv1iFO79ErMq/IcLxP8ti+EDlN0nB/qvuQLbK20CEOKRB8dfZwP+EDEGB1HE+ENasv95PLEA2PbDAzZkYQVRGT8G2TaxAFOTjQC6tV0HU2K8/QPQ0QVC+P8G8yxHBZqGsPR8IpsGG3HrBlHwyQT57wUGcNChBLnC5QEXugsFXXAtBlDMQQZ3fmj/aDRBA6k+QQVbodUASb2fBKGf6PwSnPcGwysg/zvdUQYtMjUBsykTBc3WCQVrScUBXlAVB+29Zvs+k+cAyzbC/p4wdwVjNmkCrZHbAVgh7wTopBUGCnBlBVa9nQE6sX78LYGxBY4QfQB3gD8HYamFAhcPUPnGArcFOdQHBdL/6wOJigj8N4nvB/DqfwY3NiUBVAS5Bn+PsQCrF8EApWhxBMLpRQbyfpMFki/O+Tm9LwZZEBkFn+s9AgYqGwU93EUELSRQ/AexXQftsNUGRSnfBgZylv+CIA8ESZ2O8NpJAwU01FkHGmazA4uaGQbQtmsFmjBlB/eVKQaBiD0FDsPzANJ/dwLRS38Cc54jBawo7vl6r6kBJTOk/t81GPYZc+sBtpEvBNMyGwVecD8FE6QXBhArIv2wm98ABiytAutwTweKVn8DS3+pAQYtawbtQ0D/+m69ARvRMQTjcU0G39fxANWfTQD/MDsF5hxJB2+VfwRp0m8FddJ3BZ0SkwcB1hcFUTv1A6QgNQZsc7EB+m/NAj7AzQaWqTb/QHKdB5uuOQCrupcEfGj0+Vhd+QHT3mcEqnoLB5bM3QeUyx8A1gsI/PYYDP3/ND0GXSQbAxdd9wVu/HUHJzKVB4BqlQbr4NkEpmHpBzzAZQJbnRMCNSRLBxyYOQAlBBMEXUT9BZ9MAQZJXlEEsYUXBpOyiwFcY+EBYUYzB5zQlQTg5DkGY5I1BncNIQNBbfcFCOnJBWItowdRKgkDKQ4PAbeHxv+dEDMHJE4dAJ8zXQFp8hMExfyBBd5xewdO4s0CCxkfAGSIxwHVx0b/LZyZBlcQivtG23MDBcOa/vBp+wOqaMkE2vkvBmtGxv/dMC8Gip0fBIEHav6lCfkHgfRNBmK9SwIAxz0BpxcC/m8K3wbIWGz+KW/rAD0ZdwVlrOUEgJopBF12kQcvJ/r8E9hDBZAsswbIEaUGqecLAxOcswdJcoMFIyLi+K7FrP4+II7/RMR2/8Kl4QfX3kkEYtqBBdQDqwKcfAkCVegrAnPEjQR0dZ8B8GvDAncejQMfEmsGn0ULAGkhFQVqVjED8hBXBPAXuQFGjX8GkBV7BYJ0aQW7WD8HtfxzBcrHav5axhMFtTVe/FFQzwf+hhsFiG1RBZdEHQY6WU8EfZLPAdCRMwcdj+z//y6zAuA4WwK7uMUEUqgtAeGbgv1iPY0Df1LpB2N5wQMY5RMEVaFnB5H/sv40xAcDyrY3BxwH9QCea2ECF62hBUqJiQe9v+ryeoYvBnvgUwVdrPT4qdTTA+16NPnPrh0Ch3ETB2yv2QOMDCkDH6czAhEJnQRBDVL8vnKrBVpJxwXj1j8CWJLfAexNqQEGSocGCFBRBqwy1wOcwckGWHQhBIkJiQdY79UBPMfJADZuywPfDPsH2yzVBOzjZQDM9bEGUDx/BHMKqPxss7r94cwHBRngGQMfI+0DKVnPBJdTVwFMRWMH8JEHBpJq/Qau0BEFS4ejAf39swbXc/8Akaw/BEA4LQYXsQL8+G0TBwGPMwFDwDL/VAae/f0lxwD+gmEBLo2fBIYetwYrpgkFQrsVBLJJHQb1Sx0DJhqdBuz9MQD1gXMG5g/JAbJCCwUbaS0FwbzdAOuMzQOsCXEEKwDdB6sJTwbYK6UB+GyjAmjaIQG61tkEJq6vB/gG1wI9zsb5GVHLBNuaoQR4tNsFxKqc/IkXoQI13JsE0N27BP4OyQY0nlsHEZf5AgsBWwUSmEcFVEAJBB2bFQZkQcMHsS/pAz5OOwIm6H0F55Fs/RCG6P23p2sBizK3BaGTTP10BOUEgBs7AUX8iwZ6cIcHrmw8/6sigwYpcub3jH7bBbq+dwbjp70Dd2PLARUAeQYoVBsHNd4rAhIq3Pz6oJ0BWRC4/g7QqwRqN/8BlJKXBOzopwIG7zj7bezpBpDWSwbvjg8EmUhDAYPBXQfEZpr/cGg4/AT4AwfGxg0FcLVE/E13fPoL7oj/ZHlhBYxURwbpjRMCvf0DBxSvIwLtuccF1igBBjbYAwPEDhMD5YWTBewdfQfDIv8Ci5/a/pb2MQVjWaMHTuglBuUYHwax0KsGULXvAM8+iQCVEacFaKmnB1VsKQDYHsEHvChDBphyJwUPEEkEnETPA+9OCv9WxG0FWmAbBXiZLQKV2A8HEjmhBu/niwMgyG0Dkl49B1N1dQTzTCkHUBUfAlAUbwV1hOEHUwtdA5g0tvTALsMD7imfA5g2kwRpQ0cChRUVBsewewX9S9kDGJypBNFshQTVZuEDP+IBAOUVswV6uuL/yZ6dBWzFMwchMhsE/e1PB5evWP1JHecHhNSZB6cpLQXe8x0DzUjPBj3EiwapSZEGo0q7BVtTzQAtoFUE8BGHBL3sYQam/GkFDLje/RaYIwX337sBeSxBBY5o2QDtPYj73wwRBAbZMQb5mMMDBcVvBzSG0QMh9uEF+Tr9BmxX7wErWFMDucJTAqMgOQcqe+EBqq4HBWnCtQByIN0FfxYHB+aGlwH+aAsHbmbPAAWSBvxJCur//TCu/oogeQban3L+ba1TAthc4wWV9AcGazx5BVqliwWRawz+lurjANKuZQULkvkFjx6dBomRvwTYYkcFI1NA/XKP3wGGNFkAP0dVA3ZhEQT56VkGIEBpBk2SbP6GQDEGk7SnBO5/nwJAwREGAv01BlK+kQeeCWMEe/alAnAAyQRWtjMHejXNBGBDkQCdBcEHeHIRBVBy/wK9TeEGF2XRBfNHcwEHLoMGHBfHA0hGSwUrMEkGgYNJAHrwrQTIhnkCNRx1Aj3uSQOjEbD6JUPNAL2XgwAxQpUD/flvB+qgDwTOWKEHHiiFBO9d+wTsCbMHqOEzBH2TMwOAmbkDxU5tAdEb6wOjIvkDcifLAB+L+P3YJq0HtGTdBp2wWwW4tqUBp+Ua/CGd6QZXcVUFKAdXAXWqowWkx2cDM4BFBHnqawbToI0FElxlAf5GDwCcEjsF31jTAWZ2UwaO/mUFQCPPAz1wbQDiy6sCJFMlAHKv0v2DOIMG/QP9A0QRDwI97170Bi45AR7fdwI87s8BeJZdBnnzEQB3FbEEzeIzByHjawAwZ5j+tIKNACOeswI2+T8Ay0ETB3gI0QeDAHUHXPw5Bq8eFQbNyc0GXbhBB4i0VwKWuFkGijaZAx3Zawc6DtsAj8wq/OSrXwGrkzUBTz8k/VwC2PpUuCEFof67BwWj7wD801EBRhks/HWeuQLXpkUDl8oo/Wj0YP+BfCUDUt5ZBq0iqQFM5U8Ed04bBBhoYQGdRGkE8nBJBCatiwC5mPcEvUiLAH6sbQY1FGcFfb7lBqsykwNDgrj4lcHjBJLvbwOZCt0H91BPA6Hp7Qfbd6j+Y7otBY4mXQT3AfkArfEHAp7sWQfc+fsDZR3HBNGZrwIdnjb7tSxZBNHOJwbs8IUF4dK+/0pSTQPuuVMAEyo7B5G10wczohz/aP4zBD3C6QGIMj7/TakdB9gb1QDFdyMDxNExB3aCkP958+cBkDKNBzRMbQFBqaMEnWhhBwREcwS5yS8DolI3BAR+xP55gNMDMAEe/1Kg0Qc8yXEDfK0k/r9rbvxjIssGY5IlBLlaoP8uio8FoyuVA1ir1wLibU0GzEhPBy6KxvxPdF0EB28g/+8zmwCGp9T9Y4AxBUA7/QK8SrEAcXxfAn2dXwH4sSsHhR27B5v8CwAe/H0DhVtpAfON9vpr8fEGLa3FBs5HlPzeho8ELqOM/CRB6wSdvoMFd5XtAjI8EQc2TTEH9aKXB+wEzQf9zZEEyA8W+Ysy+QMjF3D65ePVAHi4vwMVeqMGrRRBB4pWGwbdqrsDa5EtAQSXfwPh2EEHYnMrAoAGeP9rRbUBkvDq+GZwLQcjcFEGHjDlBuvlDv/f4F8HgcYVBNgB9we4jmEFHG/XALSf7wPbj7cDCM/9AZDWhwUfcCEGd9vBAxeedvxNRHMFsQwrBaCkBPxAQe8DGAgnB5fq2wAo7m0Eu7sI+G+wqv2/OXcEKXZ7BeruaQMnakMCS+e/Ay0beQMWH4cDUPv9A9n1DQft14UC/QQPBY+sbwOIOG0AlXMRAc40PQZh/psGkYK8/KXcCQL36S0BA8azB7r3WwLxKq0CrkvvAY2NnwJRMWsARKkBBE8UfQXw+fsFiuWXB++zjQEWgXEFEK2jB0xByvk2EgUEY0wDBy6xFwXm1UMFax+tAlSihwOQD3ECZ+DZBX8ERQXkOCj4MFS3B65cOwXaaiEF/zaHBkY20QdNUsUEQSnfBnM5wQba1ij0is2DBOhOgPz4K3z6I5LZA7d8pQQdU8ECDsHdB00B0wOYA/cBvmfbAlaWKwBR4ZUA8f9BA4ZMDQGblq7/SCTNAAR5bPw/56r9nR6fADHqIQUqlnsFpiY9BAvUSwbvPDj/cVw1BxP9KwAeRHkD8tcrAlSiBwSA6U8HiwprBr1niwIu51MAfZBdBYRVEwc7sjT52dQPBxQCEQQ1ExkDY6q8/3oUZv9UAgEHqqeS+LVJdwJT/W74IWonA1uNowSmV30Bj3wbBjQZWQWGAAUFk76bA7cwQwdjQmkDt5+VAASiEwKQAHD/mWJvBpj/bQA6aV0FvuZvBfkfgwK/kPD2Ylpq/V9cZQLD15MAr6DjBHfWNQNyd1cAfOkjAXInDQIiY/j8cXSPA+qF6PoXgfcEipwe/frPYQOgRy7+TiqJAJ8eeQUaTr0G6gCfBnba2QKbdUsE0E/FAb4YPQVkGIsHxjdZAsjejPpOpf8Dtc/fAbDFSQYjUzsDZqa3BnRmOwV/XNUEvHqzAelsfQbZg9EBjc7NBUiU6QT6gk0HzjB9Bs+vgwC71Y0AZHYrBUyN+waBtw7/FUlbBW5DVPsbWgcHCkx5BWZ4jQBDRnb/1/YPAU22IwOH3gMEuxMnACRiav/BU7sAVenBAWS+swKll1sAlgCHBJip4Px1RwL8RubtBUJJXQeSLesDIMirBbYgVQeAYkb1/NjhB0hn+wFm3ocFksjdAtz+rv9pcRUEM3BXBftcbweM6g0AL9olBqiWZQBCHC79wjrxBfSA8wX9rqcEPBpe+iW2TwcyV78AN9JdBFibxPuqt/ECLMJ7BXIN1wSa9TEFt7f3Ax7WpQLUcgEHAr69BTGxkwNWNCMG27RZBEZmowHs/B8FZaoFBX/SeQAeipsFXVedApNZ1wahvusCI+9BAgc5EwAUZ7z8bRAlBmzzsQHM3G8Fncp4+9zWaQHT4r0E+GofAupeGPmL/2sCMPr/A20GMwfYCocALS79B5IQLwQVy9T7GuYXBOhq3wK2PiEEcf3vBY504we6FW0Gt3IbBuGF+wRoCzsAwKdi/Qo0IwNlXiMHkQA1BG4wsQWMLksHUlvfAoikIv8dQuUEoM9NAHhAAwYX6678sf6pBJOVKQTgm1kBlLIvAJ+cFQUm0ccDMJoZAi7eHQSQUcEHho4u/MjTIwAJrUD7FBeVAp8v2QIpVtkFBcl/BxHTLv+WdD8AEcxHB/DunwdJ1FcCLUnjBRy/iv2OapD/R/Y/BFlkYQV6w2j1nDmZACvbwQKSjH0BtrkxBcx/xwBeKBMCL0m7A0tKfwZD+L8EW8IHBFmtzQTakIEE3sps/9OiaPwzKUkEu6XFBVhN5QaQC0b4GF8FAqvGMQXWgzEDxMa3Bt8+BQXwMd79nawdBDyicwRDYcsA9S9k/RCgWQXC6ML8PLuXA8xx5wIm3aD8KgcRAXsqSQd8xE0HK7VPBvXYcQLTVLz/hOIW/Hma6QMC6gsHmQoxAwkY5waZlDEHAqRTBosVgQbiDZz7JDCJBJhqdwaoMI0F/96JAJIufwBMoqEFF5TNAZrwPP2Qknz1KWbfA8ioaQcvYRkDy7kbB5gP9QOf9n0HKKfRAco2PwYEDLkAmA2nBtO8SQby7hsAyJnHB2CBIPyrRKkG8+0PATm/swFf4/kDrYb6/2pYUwOQKiT5w7WlBNf+NQEUaar+E21DBeUssQcfkq8GLEqPBKXFBQZINOr9RdZRAN2sawN3CS78qOte/XnYMQasczb/jxkFAtWeRwf/l+8A4U4xBqFgXwL1uE7+bM8S+OVPtv9UaokEOoQ3AK9E4QfSGQ0EKWUrBlO0OQfGzncA6mrI/VobZQGi3Dz9xU3TAYYs/wVV1TEBNKCfBNBHlwD+haECJ/JvBfhMMQUyqQcEdq0Y/E4Hqvj+oB0EAdt5Aw4qNwQcFz8CprcU9UFSIwW2U1z8SMcK+k8rPPnJgfcFGmoLB55BRQAcw70Bbv+fAj6Khv7CJH0G1bnDAtZl1QF/Y/kDZqZzB5v7vvyckhsEkBqdBS0jXQIeNWcFr5TNAWHqPwLVmHj/NCydBMX4QQYBLukDATglBcrJwQUeRrMFy2VjBlJGYQFYzH8EghMlAXS7swBtPesEoNe9AvQcgwZTUtkG2SZxAgq8UQZtZ6sCOW7NB+hdrQfi5JEGrkkq/ZmyWwKqMYMFT8yw+1Y5QwFcVgT+5qMfAwQjVv6OQE0HEhG3BSNPSQKAtosDUlhzBJAn/wK7job/mscw/yHaJQWDWdMDiBZDBKhAIQSMdEMCwkxhBmxyNwHs5icCiU2fByONMQAldHkFz2abBBk4XQHoKxEAxLwlBoq73wIWf5EBSgRFBDVCuwFPqYr10thLBRNhdQcQjXsGdbrXBlL+GwSvVT8GTIhXBeFs3QanqncGbRSNBdz6jwSRtpsDbfyHBbOZzwH4uvkEIeKLAFTDrwLL+dL+BrhRBi9y3wJlsXEGxdE1BXfKDwagjvkB3rdq/Gpp7wb916j+mdtu/6NjnQMxRX0EoE3tB5fJFwdoHhUHorfBAPNPsP0jMjsHmppVAJknzQGdljL9DKmDAEfWMweleLsExgAhB7DqewOx/pUBLFxFBAgugQBtvWcFyWOHAnDU+waH8GD/BkF5B/6hYwbve7b6snINBGueMQIECTsEwbttAGycOQUkSqT9souvA92mpwQc6uD9DtFtAMi52wcvELkHxpuTA9jApQcSzAMF5HhXBl3f6wH2bHEG2JZ7BZn7pwG34TcBLV4BApSkJQK1Si0HodMxAiKJ+wUdTDUF6A+XAcyFHwUElkMGEnvNAz5NyQapYzUAYwrDA9uZov9aH2r/8mpg9YNYUQfnTbb9/n7tAFcYlv4xvE8GnX43Bj9jiwAegQkEMoLa/Jyl1QFnlocHcwwRBI3HeQOqkKcA3CJ4/FHoSwSFAqMENOoPAJtDwwPfuxUAAZZw/1H+7QUm5l0CWFn7BpK8bwfkgrMHznqzAuJ5YwWhBAUCl7whBomwzwXEDd8Gguo/AY9wiwNRbJkEyAxZAe1CpQfdBJcGjdIHBYyFMwYPVJkHgngbBqINkQGc/TsEMZiRBxewFQQrKM0HBqqTB637twLAOBD7pIaDBpaAIQdAYosE=",
          "dtype": "f4"
         }
        }
       ],
       "layout": {
        "height": 800,
        "margin": {
         "b": 0,
         "l": 0,
         "r": 0,
         "t": 50
        },
        "scene": {
         "aspectmode": "cube",
         "xaxis": {
          "title": {
           "text": "t-SNE 1"
          }
         },
         "yaxis": {
          "title": {
           "text": "t-SNE 2"
          }
         },
         "zaxis": {
          "title": {
           "text": "t-SNE 3"
          }
         }
        },
        "template": {
         "data": {
          "bar": [
           {
            "error_x": {
             "color": "#2a3f5f"
            },
            "error_y": {
             "color": "#2a3f5f"
            },
            "marker": {
             "line": {
              "color": "#E5ECF6",
              "width": 0.5
             },
             "pattern": {
              "fillmode": "overlay",
              "size": 10,
              "solidity": 0.2
             }
            },
            "type": "bar"
           }
          ],
          "barpolar": [
           {
            "marker": {
             "line": {
              "color": "#E5ECF6",
              "width": 0.5
             },
             "pattern": {
              "fillmode": "overlay",
              "size": 10,
              "solidity": 0.2
             }
            },
            "type": "barpolar"
           }
          ],
          "carpet": [
           {
            "aaxis": {
             "endlinecolor": "#2a3f5f",
             "gridcolor": "white",
             "linecolor": "white",
             "minorgridcolor": "white",
             "startlinecolor": "#2a3f5f"
            },
            "baxis": {
             "endlinecolor": "#2a3f5f",
             "gridcolor": "white",
             "linecolor": "white",
             "minorgridcolor": "white",
             "startlinecolor": "#2a3f5f"
            },
            "type": "carpet"
           }
          ],
          "choropleth": [
           {
            "colorbar": {
             "outlinewidth": 0,
             "ticks": ""
            },
            "type": "choropleth"
           }
          ],
          "contour": [
           {
            "colorbar": {
             "outlinewidth": 0,
             "ticks": ""
            },
            "colorscale": [
             [
              0,
              "#0d0887"
             ],
             [
              0.1111111111111111,
              "#46039f"
             ],
             [
              0.2222222222222222,
              "#7201a8"
             ],
             [
              0.3333333333333333,
              "#9c179e"
             ],
             [
              0.4444444444444444,
              "#bd3786"
             ],
             [
              0.5555555555555556,
              "#d8576b"
             ],
             [
              0.6666666666666666,
              "#ed7953"
             ],
             [
              0.7777777777777778,
              "#fb9f3a"
             ],
             [
              0.8888888888888888,
              "#fdca26"
             ],
             [
              1,
              "#f0f921"
             ]
            ],
            "type": "contour"
           }
          ],
          "contourcarpet": [
           {
            "colorbar": {
             "outlinewidth": 0,
             "ticks": ""
            },
            "type": "contourcarpet"
           }
          ],
          "heatmap": [
           {
            "colorbar": {
             "outlinewidth": 0,
             "ticks": ""
            },
            "colorscale": [
             [
              0,
              "#0d0887"
             ],
             [
              0.1111111111111111,
              "#46039f"
             ],
             [
              0.2222222222222222,
              "#7201a8"
             ],
             [
              0.3333333333333333,
              "#9c179e"
             ],
             [
              0.4444444444444444,
              "#bd3786"
             ],
             [
              0.5555555555555556,
              "#d8576b"
             ],
             [
              0.6666666666666666,
              "#ed7953"
             ],
             [
              0.7777777777777778,
              "#fb9f3a"
             ],
             [
              0.8888888888888888,
              "#fdca26"
             ],
             [
              1,
              "#f0f921"
             ]
            ],
            "type": "heatmap"
           }
          ],
          "histogram": [
           {
            "marker": {
             "pattern": {
              "fillmode": "overlay",
              "size": 10,
              "solidity": 0.2
             }
            },
            "type": "histogram"
           }
          ],
          "histogram2d": [
           {
            "colorbar": {
             "outlinewidth": 0,
             "ticks": ""
            },
            "colorscale": [
             [
              0,
              "#0d0887"
             ],
             [
              0.1111111111111111,
              "#46039f"
             ],
             [
              0.2222222222222222,
              "#7201a8"
             ],
             [
              0.3333333333333333,
              "#9c179e"
             ],
             [
              0.4444444444444444,
              "#bd3786"
             ],
             [
              0.5555555555555556,
              "#d8576b"
             ],
             [
              0.6666666666666666,
              "#ed7953"
             ],
             [
              0.7777777777777778,
              "#fb9f3a"
             ],
             [
              0.8888888888888888,
              "#fdca26"
             ],
             [
              1,
              "#f0f921"
             ]
            ],
            "type": "histogram2d"
           }
          ],
          "histogram2dcontour": [
           {
            "colorbar": {
             "outlinewidth": 0,
             "ticks": ""
            },
            "colorscale": [
             [
              0,
              "#0d0887"
             ],
             [
              0.1111111111111111,
              "#46039f"
             ],
             [
              0.2222222222222222,
              "#7201a8"
             ],
             [
              0.3333333333333333,
              "#9c179e"
             ],
             [
              0.4444444444444444,
              "#bd3786"
             ],
             [
              0.5555555555555556,
              "#d8576b"
             ],
             [
              0.6666666666666666,
              "#ed7953"
             ],
             [
              0.7777777777777778,
              "#fb9f3a"
             ],
             [
              0.8888888888888888,
              "#fdca26"
             ],
             [
              1,
              "#f0f921"
             ]
            ],
            "type": "histogram2dcontour"
           }
          ],
          "mesh3d": [
           {
            "colorbar": {
             "outlinewidth": 0,
             "ticks": ""
            },
            "type": "mesh3d"
           }
          ],
          "parcoords": [
           {
            "line": {
             "colorbar": {
              "outlinewidth": 0,
              "ticks": ""
             }
            },
            "type": "parcoords"
           }
          ],
          "pie": [
           {
            "automargin": true,
            "type": "pie"
           }
          ],
          "scatter": [
           {
            "fillpattern": {
             "fillmode": "overlay",
             "size": 10,
             "solidity": 0.2
            },
            "type": "scatter"
           }
          ],
          "scatter3d": [
           {
            "line": {
             "colorbar": {
              "outlinewidth": 0,
              "ticks": ""
             }
            },
            "marker": {
             "colorbar": {
              "outlinewidth": 0,
              "ticks": ""
             }
            },
            "type": "scatter3d"
           }
          ],
          "scattercarpet": [
           {
            "marker": {
             "colorbar": {
              "outlinewidth": 0,
              "ticks": ""
             }
            },
            "type": "scattercarpet"
           }
          ],
          "scattergeo": [
           {
            "marker": {
             "colorbar": {
              "outlinewidth": 0,
              "ticks": ""
             }
            },
            "type": "scattergeo"
           }
          ],
          "scattergl": [
           {
            "marker": {
             "colorbar": {
              "outlinewidth": 0,
              "ticks": ""
             }
            },
            "type": "scattergl"
           }
          ],
          "scattermap": [
           {
            "marker": {
             "colorbar": {
              "outlinewidth": 0,
              "ticks": ""
             }
            },
            "type": "scattermap"
           }
          ],
          "scattermapbox": [
           {
            "marker": {
             "colorbar": {
              "outlinewidth": 0,
              "ticks": ""
             }
            },
            "type": "scattermapbox"
           }
          ],
          "scatterpolar": [
           {
            "marker": {
             "colorbar": {
              "outlinewidth": 0,
              "ticks": ""
             }
            },
            "type": "scatterpolar"
           }
          ],
          "scatterpolargl": [
           {
            "marker": {
             "colorbar": {
              "outlinewidth": 0,
              "ticks": ""
             }
            },
            "type": "scatterpolargl"
           }
          ],
          "scatterternary": [
           {
            "marker": {
             "colorbar": {
              "outlinewidth": 0,
              "ticks": ""
             }
            },
            "type": "scatterternary"
           }
          ],
          "surface": [
           {
            "colorbar": {
             "outlinewidth": 0,
             "ticks": ""
            },
            "colorscale": [
             [
              0,
              "#0d0887"
             ],
             [
              0.1111111111111111,
              "#46039f"
             ],
             [
              0.2222222222222222,
              "#7201a8"
             ],
             [
              0.3333333333333333,
              "#9c179e"
             ],
             [
              0.4444444444444444,
              "#bd3786"
             ],
             [
              0.5555555555555556,
              "#d8576b"
             ],
             [
              0.6666666666666666,
              "#ed7953"
             ],
             [
              0.7777777777777778,
              "#fb9f3a"
             ],
             [
              0.8888888888888888,
              "#fdca26"
             ],
             [
              1,
              "#f0f921"
             ]
            ],
            "type": "surface"
           }
          ],
          "table": [
           {
            "cells": {
             "fill": {
              "color": "#EBF0F8"
             },
             "line": {
              "color": "white"
             }
            },
            "header": {
             "fill": {
              "color": "#C8D4E3"
             },
             "line": {
              "color": "white"
             }
            },
            "type": "table"
           }
          ]
         },
         "layout": {
          "annotationdefaults": {
           "arrowcolor": "#2a3f5f",
           "arrowhead": 0,
           "arrowwidth": 1
          },
          "autotypenumbers": "strict",
          "coloraxis": {
           "colorbar": {
            "outlinewidth": 0,
            "ticks": ""
           }
          },
          "colorscale": {
           "diverging": [
            [
             0,
             "#8e0152"
            ],
            [
             0.1,
             "#c51b7d"
            ],
            [
             0.2,
             "#de77ae"
            ],
            [
             0.3,
             "#f1b6da"
            ],
            [
             0.4,
             "#fde0ef"
            ],
            [
             0.5,
             "#f7f7f7"
            ],
            [
             0.6,
             "#e6f5d0"
            ],
            [
             0.7,
             "#b8e186"
            ],
            [
             0.8,
             "#7fbc41"
            ],
            [
             0.9,
             "#4d9221"
            ],
            [
             1,
             "#276419"
            ]
           ],
           "sequential": [
            [
             0,
             "#0d0887"
            ],
            [
             0.1111111111111111,
             "#46039f"
            ],
            [
             0.2222222222222222,
             "#7201a8"
            ],
            [
             0.3333333333333333,
             "#9c179e"
            ],
            [
             0.4444444444444444,
             "#bd3786"
            ],
            [
             0.5555555555555556,
             "#d8576b"
            ],
            [
             0.6666666666666666,
             "#ed7953"
            ],
            [
             0.7777777777777778,
             "#fb9f3a"
            ],
            [
             0.8888888888888888,
             "#fdca26"
            ],
            [
             1,
             "#f0f921"
            ]
           ],
           "sequentialminus": [
            [
             0,
             "#0d0887"
            ],
            [
             0.1111111111111111,
             "#46039f"
            ],
            [
             0.2222222222222222,
             "#7201a8"
            ],
            [
             0.3333333333333333,
             "#9c179e"
            ],
            [
             0.4444444444444444,
             "#bd3786"
            ],
            [
             0.5555555555555556,
             "#d8576b"
            ],
            [
             0.6666666666666666,
             "#ed7953"
            ],
            [
             0.7777777777777778,
             "#fb9f3a"
            ],
            [
             0.8888888888888888,
             "#fdca26"
            ],
            [
             1,
             "#f0f921"
            ]
           ]
          },
          "colorway": [
           "#636efa",
           "#EF553B",
           "#00cc96",
           "#ab63fa",
           "#FFA15A",
           "#19d3f3",
           "#FF6692",
           "#B6E880",
           "#FF97FF",
           "#FECB52"
          ],
          "font": {
           "color": "#2a3f5f"
          },
          "geo": {
           "bgcolor": "white",
           "lakecolor": "white",
           "landcolor": "#E5ECF6",
           "showlakes": true,
           "showland": true,
           "subunitcolor": "white"
          },
          "hoverlabel": {
           "align": "left"
          },
          "hovermode": "closest",
          "mapbox": {
           "style": "light"
          },
          "paper_bgcolor": "white",
          "plot_bgcolor": "#E5ECF6",
          "polar": {
           "angularaxis": {
            "gridcolor": "white",
            "linecolor": "white",
            "ticks": ""
           },
           "bgcolor": "#E5ECF6",
           "radialaxis": {
            "gridcolor": "white",
            "linecolor": "white",
            "ticks": ""
           }
          },
          "scene": {
           "xaxis": {
            "backgroundcolor": "#E5ECF6",
            "gridcolor": "white",
            "gridwidth": 2,
            "linecolor": "white",
            "showbackground": true,
            "ticks": "",
            "zerolinecolor": "white"
           },
           "yaxis": {
            "backgroundcolor": "#E5ECF6",
            "gridcolor": "white",
            "gridwidth": 2,
            "linecolor": "white",
            "showbackground": true,
            "ticks": "",
            "zerolinecolor": "white"
           },
           "zaxis": {
            "backgroundcolor": "#E5ECF6",
            "gridcolor": "white",
            "gridwidth": 2,
            "linecolor": "white",
            "showbackground": true,
            "ticks": "",
            "zerolinecolor": "white"
           }
          },
          "shapedefaults": {
           "line": {
            "color": "#2a3f5f"
           }
          },
          "ternary": {
           "aaxis": {
            "gridcolor": "white",
            "linecolor": "white",
            "ticks": ""
           },
           "baxis": {
            "gridcolor": "white",
            "linecolor": "white",
            "ticks": ""
           },
           "bgcolor": "#E5ECF6",
           "caxis": {
            "gridcolor": "white",
            "linecolor": "white",
            "ticks": ""
           }
          },
          "title": {
           "x": 0.05
          },
          "xaxis": {
           "automargin": true,
           "gridcolor": "white",
           "linecolor": "white",
           "ticks": "",
           "title": {
            "standoff": 15
           },
           "zerolinecolor": "white",
           "zerolinewidth": 2
          },
          "yaxis": {
           "automargin": true,
           "gridcolor": "white",
           "linecolor": "white",
           "ticks": "",
           "title": {
            "standoff": 15
           },
           "zerolinecolor": "white",
           "zerolinewidth": 2
          }
         }
        },
        "title": {
         "text": "3D t-SNE Cluster Visualization (k=7)"
        },
        "width": 800
       }
      }
     },
     "metadata": {},
     "output_type": "display_data"
    }
   ],
   "source": [
    "from sklearn.manifold import TSNE\n",
    "import plotly.graph_objects as go\n",
    "import pandas as pd\n",
    "import numpy as np\n",
    "\n",
    "# Check if Gower distance matrix is valid\n",
    "if np.isnan(gower_distances).any() or np.isinf(gower_distances).any():\n",
    "    raise ValueError(\"⚠️ Gower distance matrix contains NaN or Inf values. Check your preprocessing!\")\n",
    "\n",
    "if gower_distances.shape[0] != gower_distances.shape[1]:\n",
    "    raise ValueError(\"⚠️ Gower distance matrix must be square (NxN).\")\n",
    "\n",
    "# Compute 3D t-SNE projection (Fixing the init='pca' issue)\n",
    "tsne = TSNE(n_components=3, metric='precomputed', init='random', random_state=42)\n",
    "X_tsne_3d = tsne.fit_transform(gower_distances)\n",
    "\n",
    "# Assign best k from evaluation (Make sure best_k exists in cluster_results)\n",
    "best_k = 7\n",
    "if best_k not in cluster_results:\n",
    "    raise ValueError(f\"⚠️ best_k={best_k} is not in cluster_results. Check clustering output!\")\n",
    "\n",
    "labels = cluster_results[best_k]\n",
    "\n",
    "# Create DataFrame for visualization\n",
    "df_plot = pd.DataFrame({'x': X_tsne_3d[:, 0], 'y': X_tsne_3d[:, 1], 'z': X_tsne_3d[:, 2], 'Cluster': labels})\n",
    "\n",
    "# Explicitly set a reduced point size\n",
    "point_size = 5  # Adjust this value to control marker size\n",
    "\n",
    "# Generate interactive 3D scatter plot using go.Scatter3d for explicit control over marker size\n",
    "fig = go.Figure()\n",
    "\n",
    "fig.add_trace(go.Scatter3d(\n",
    "    x=df_plot['x'],\n",
    "    y=df_plot['y'],\n",
    "    z=df_plot['z'],\n",
    "    mode='markers',\n",
    "    marker=dict(\n",
    "        size=point_size,  # Explicitly setting the size\n",
    "        color=df_plot['Cluster'],  # Color by cluster\n",
    "        colorscale='Turbo',  # Set color scale\n",
    "        opacity=0.7  # Adjust transparency\n",
    "    )\n",
    "))\n",
    "\n",
    "# Customize layout\n",
    "fig.update_layout(\n",
    "    title=f\"3D t-SNE Cluster Visualization (k={best_k})\",\n",
    "    scene=dict(\n",
    "        xaxis_title=\"t-SNE 1\",\n",
    "        yaxis_title=\"t-SNE 2\",\n",
    "        zaxis_title=\"t-SNE 3\",\n",
    "        aspectmode=\"cube\"  # Keeps the aspect ratio balanced\n",
    "    ),\n",
    "    margin=dict(l=0, r=0, b=0, t=50),\n",
    "    width=800,  # Adjusted figure width\n",
    "    height=800   # Adjusted figure height\n",
    ")\n",
    "\n",
    "fig.show()"
   ]
  },
  {
   "cell_type": "code",
   "execution_count": 25,
   "id": "c91cb207",
   "metadata": {},
   "outputs": [
    {
     "name": "stdout",
     "output_type": "stream",
     "text": [
      "🔹 Cluster Characteristics (Original Scale with Categorical Labels Restored):\n"
     ]
    },
    {
     "data": {
      "text/html": [
       "<div>\n",
       "<style scoped>\n",
       "    .dataframe tbody tr th:only-of-type {\n",
       "        vertical-align: middle;\n",
       "    }\n",
       "\n",
       "    .dataframe tbody tr th {\n",
       "        vertical-align: top;\n",
       "    }\n",
       "\n",
       "    .dataframe thead th {\n",
       "        text-align: right;\n",
       "    }\n",
       "</style>\n",
       "<table border=\"1\" class=\"dataframe\">\n",
       "  <thead>\n",
       "    <tr style=\"text-align: right;\">\n",
       "      <th></th>\n",
       "      <th>Age</th>\n",
       "      <th>FamilySize</th>\n",
       "      <th>Income</th>\n",
       "      <th>Wealth</th>\n",
       "      <th>Debt</th>\n",
       "      <th>FinEdu</th>\n",
       "      <th>ESG</th>\n",
       "      <th>Digital</th>\n",
       "      <th>BankFriend</th>\n",
       "      <th>LifeStyle</th>\n",
       "      <th>Luxury</th>\n",
       "      <th>Saving</th>\n",
       "      <th>Gender</th>\n",
       "      <th>Job</th>\n",
       "      <th>Area</th>\n",
       "      <th>CitySize</th>\n",
       "      <th>Investments</th>\n",
       "    </tr>\n",
       "    <tr>\n",
       "      <th>Cluster</th>\n",
       "      <th></th>\n",
       "      <th></th>\n",
       "      <th></th>\n",
       "      <th></th>\n",
       "      <th></th>\n",
       "      <th></th>\n",
       "      <th></th>\n",
       "      <th></th>\n",
       "      <th></th>\n",
       "      <th></th>\n",
       "      <th></th>\n",
       "      <th></th>\n",
       "      <th></th>\n",
       "      <th></th>\n",
       "      <th></th>\n",
       "      <th></th>\n",
       "      <th></th>\n",
       "    </tr>\n",
       "  </thead>\n",
       "  <tbody>\n",
       "    <tr>\n",
       "      <th>0</th>\n",
       "      <td>54.004684</td>\n",
       "      <td>2.382904</td>\n",
       "      <td>0.661092</td>\n",
       "      <td>0.652659</td>\n",
       "      <td>0.506280</td>\n",
       "      <td>0.594475</td>\n",
       "      <td>0.618081</td>\n",
       "      <td>0.617446</td>\n",
       "      <td>0.640366</td>\n",
       "      <td>0.554337</td>\n",
       "      <td>0.571719</td>\n",
       "      <td>0.568142</td>\n",
       "      <td>1</td>\n",
       "      <td>2</td>\n",
       "      <td>1</td>\n",
       "      <td>2</td>\n",
       "      <td>3</td>\n",
       "    </tr>\n",
       "    <tr>\n",
       "      <th>1</th>\n",
       "      <td>68.330132</td>\n",
       "      <td>2.759904</td>\n",
       "      <td>0.518051</td>\n",
       "      <td>0.536872</td>\n",
       "      <td>0.388659</td>\n",
       "      <td>0.448740</td>\n",
       "      <td>0.551638</td>\n",
       "      <td>0.440798</td>\n",
       "      <td>0.579407</td>\n",
       "      <td>0.394030</td>\n",
       "      <td>0.359418</td>\n",
       "      <td>0.518379</td>\n",
       "      <td>1</td>\n",
       "      <td>2</td>\n",
       "      <td>1</td>\n",
       "      <td>1</td>\n",
       "      <td>1</td>\n",
       "    </tr>\n",
       "    <tr>\n",
       "      <th>2</th>\n",
       "      <td>78.335694</td>\n",
       "      <td>2.041076</td>\n",
       "      <td>0.396690</td>\n",
       "      <td>0.401939</td>\n",
       "      <td>0.151855</td>\n",
       "      <td>0.349365</td>\n",
       "      <td>0.612343</td>\n",
       "      <td>0.312001</td>\n",
       "      <td>0.626071</td>\n",
       "      <td>0.264116</td>\n",
       "      <td>0.265527</td>\n",
       "      <td>0.330718</td>\n",
       "      <td>1</td>\n",
       "      <td>5</td>\n",
       "      <td>1</td>\n",
       "      <td>2</td>\n",
       "      <td>2</td>\n",
       "    </tr>\n",
       "    <tr>\n",
       "      <th>3</th>\n",
       "      <td>53.647919</td>\n",
       "      <td>2.835771</td>\n",
       "      <td>0.564921</td>\n",
       "      <td>0.537524</td>\n",
       "      <td>0.491843</td>\n",
       "      <td>0.483006</td>\n",
       "      <td>0.541776</td>\n",
       "      <td>0.507648</td>\n",
       "      <td>0.570693</td>\n",
       "      <td>0.419052</td>\n",
       "      <td>0.445574</td>\n",
       "      <td>0.542173</td>\n",
       "      <td>0</td>\n",
       "      <td>2</td>\n",
       "      <td>1</td>\n",
       "      <td>1</td>\n",
       "      <td>3</td>\n",
       "    </tr>\n",
       "    <tr>\n",
       "      <th>4</th>\n",
       "      <td>52.639155</td>\n",
       "      <td>2.124760</td>\n",
       "      <td>0.767545</td>\n",
       "      <td>0.779449</td>\n",
       "      <td>0.557734</td>\n",
       "      <td>0.685165</td>\n",
       "      <td>0.645021</td>\n",
       "      <td>0.735073</td>\n",
       "      <td>0.742945</td>\n",
       "      <td>0.661342</td>\n",
       "      <td>0.720702</td>\n",
       "      <td>0.585180</td>\n",
       "      <td>0</td>\n",
       "      <td>2</td>\n",
       "      <td>1</td>\n",
       "      <td>3</td>\n",
       "      <td>2</td>\n",
       "    </tr>\n",
       "    <tr>\n",
       "      <th>5</th>\n",
       "      <td>65.946479</td>\n",
       "      <td>2.960563</td>\n",
       "      <td>0.537845</td>\n",
       "      <td>0.570094</td>\n",
       "      <td>0.427727</td>\n",
       "      <td>0.483934</td>\n",
       "      <td>0.532385</td>\n",
       "      <td>0.507484</td>\n",
       "      <td>0.589115</td>\n",
       "      <td>0.429929</td>\n",
       "      <td>0.436229</td>\n",
       "      <td>0.531518</td>\n",
       "      <td>0</td>\n",
       "      <td>2</td>\n",
       "      <td>1</td>\n",
       "      <td>2</td>\n",
       "      <td>2</td>\n",
       "    </tr>\n",
       "    <tr>\n",
       "      <th>6</th>\n",
       "      <td>45.108830</td>\n",
       "      <td>1.924025</td>\n",
       "      <td>0.655125</td>\n",
       "      <td>0.655169</td>\n",
       "      <td>0.518422</td>\n",
       "      <td>0.609818</td>\n",
       "      <td>0.658683</td>\n",
       "      <td>0.674434</td>\n",
       "      <td>0.638861</td>\n",
       "      <td>0.619226</td>\n",
       "      <td>0.654065</td>\n",
       "      <td>0.597242</td>\n",
       "      <td>1</td>\n",
       "      <td>2</td>\n",
       "      <td>1</td>\n",
       "      <td>3</td>\n",
       "      <td>2</td>\n",
       "    </tr>\n",
       "  </tbody>\n",
       "</table>\n",
       "</div>"
      ],
      "text/plain": [
       "               Age  FamilySize    Income    Wealth      Debt    FinEdu  \\\n",
       "Cluster                                                                  \n",
       "0        54.004684    2.382904  0.661092  0.652659  0.506280  0.594475   \n",
       "1        68.330132    2.759904  0.518051  0.536872  0.388659  0.448740   \n",
       "2        78.335694    2.041076  0.396690  0.401939  0.151855  0.349365   \n",
       "3        53.647919    2.835771  0.564921  0.537524  0.491843  0.483006   \n",
       "4        52.639155    2.124760  0.767545  0.779449  0.557734  0.685165   \n",
       "5        65.946479    2.960563  0.537845  0.570094  0.427727  0.483934   \n",
       "6        45.108830    1.924025  0.655125  0.655169  0.518422  0.609818   \n",
       "\n",
       "              ESG   Digital  BankFriend  LifeStyle    Luxury    Saving Gender  \\\n",
       "Cluster                                                                         \n",
       "0        0.618081  0.617446    0.640366   0.554337  0.571719  0.568142      1   \n",
       "1        0.551638  0.440798    0.579407   0.394030  0.359418  0.518379      1   \n",
       "2        0.612343  0.312001    0.626071   0.264116  0.265527  0.330718      1   \n",
       "3        0.541776  0.507648    0.570693   0.419052  0.445574  0.542173      0   \n",
       "4        0.645021  0.735073    0.742945   0.661342  0.720702  0.585180      0   \n",
       "5        0.532385  0.507484    0.589115   0.429929  0.436229  0.531518      0   \n",
       "6        0.658683  0.674434    0.638861   0.619226  0.654065  0.597242      1   \n",
       "\n",
       "        Job Area CitySize Investments  \n",
       "Cluster                                \n",
       "0         2    1        2           3  \n",
       "1         2    1        1           1  \n",
       "2         5    1        2           2  \n",
       "3         2    1        1           3  \n",
       "4         2    1        3           2  \n",
       "5         2    1        2           2  \n",
       "6         2    1        3           2  "
      ]
     },
     "metadata": {},
     "output_type": "display_data"
    }
   ],
   "source": [
    "import pandas as pd\n",
    "from IPython.display import display\n",
    "import numpy as np\n",
    "\n",
    "# Restore feature names for numerical and categorical variables\n",
    "encoded_feature_names = encoder.get_feature_names_out(categorical_columns)\n",
    "all_feature_names = numerical_features.columns.tolist() + encoded_feature_names.tolist()\n",
    "\n",
    "# Convert back to DataFrame with proper labels\n",
    "cluster_summary = pd.DataFrame(X_preprocessed, columns=all_feature_names)\n",
    "cluster_summary['Cluster'] = labels\n",
    "\n",
    "# Compute mean of each feature per cluster\n",
    "summary = cluster_summary.groupby('Cluster').mean()\n",
    "\n",
    "# Reverse MinMax scaling to restore original numerical values\n",
    "summary_original_scale = summary.copy()\n",
    "summary_original_scale[numerical_features.columns] = scaler.inverse_transform(summary[numerical_features.columns])\n",
    "\n",
    "# Convert one-hot encoded categorical values back to original labels\n",
    "for i, cat_col in enumerate(categorical_columns):\n",
    "    # Identify the one-hot encoded column names for this categorical feature\n",
    "    one_hot_columns = [col for col in summary_original_scale.columns if col.startswith(cat_col + \"_\")]\n",
    "\n",
    "    # Get the most likely category per cluster using argmax\n",
    "    summary_original_scale[cat_col] = summary_original_scale[one_hot_columns].idxmax(axis=1)\n",
    "\n",
    "    # Convert from \"Category_X\" to just \"X\"\n",
    "    summary_original_scale[cat_col] = summary_original_scale[cat_col].str.split('_').str[1]\n",
    "\n",
    "    # Drop the one-hot encoded columns\n",
    "    summary_original_scale = summary_original_scale.drop(columns=one_hot_columns)\n",
    "\n",
    "# Display the DataFrame as a readable table\n",
    "print(\"🔹 Cluster Characteristics (Original Scale with Categorical Labels Restored):\")\n",
    "display(summary_original_scale)  # Using Jupyter's display() for better formatting"
   ]
  }
 ],
 "metadata": {
  "kernelspec": {
   "display_name": ".venv",
   "language": "python",
   "name": "python3"
  },
  "language_info": {
   "codemirror_mode": {
    "name": "ipython",
    "version": 3
   },
   "file_extension": ".py",
   "mimetype": "text/x-python",
   "name": "python",
   "nbconvert_exporter": "python",
   "pygments_lexer": "ipython3",
   "version": "3.9.15"
  }
 },
 "nbformat": 4,
 "nbformat_minor": 5
}
